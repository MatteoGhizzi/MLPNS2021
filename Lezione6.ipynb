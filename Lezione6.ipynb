{
  "nbformat": 4,
  "nbformat_minor": 0,
  "metadata": {
    "colab": {
      "name": "Lezione6.ipynb",
      "provenance": [],
      "authorship_tag": "ABX9TyPP4wSQp6vmZQIm1sQaBV/b",
      "include_colab_link": true
    },
    "kernelspec": {
      "name": "python3",
      "display_name": "Python 3"
    },
    "language_info": {
      "name": "python"
    }
  },
  "cells": [
    {
      "cell_type": "markdown",
      "metadata": {
        "id": "view-in-github",
        "colab_type": "text"
      },
      "source": [
        "<a href=\"https://colab.research.google.com/github/MatteoGhizzi/MLPNS2021/blob/main/Lezione6.ipynb\" target=\"_parent\"><img src=\"https://colab.research.google.com/assets/colab-badge.svg\" alt=\"Open In Colab\"/></a>"
      ]
    },
    {
      "cell_type": "code",
      "metadata": {
        "id": "CBnRqswlRcXR"
      },
      "source": [
        "import scipy as sp\n",
        "from scipy import stats"
      ],
      "execution_count": 2,
      "outputs": []
    },
    {
      "cell_type": "markdown",
      "metadata": {
        "id": "MAibXTHOVRW_"
      },
      "source": [
        "##L'obbiettivo è generare set di valori di dimensioni differinti (100, 1000, 10000) da una distribuzione normale e confrontarli tramite il K-S test con la normale standard.\n",
        "\n",
        "##Il K-S test verrà poi utilizzato per confrontare varie distribuzioni con la distribuzione normale standard"
      ]
    },
    {
      "cell_type": "code",
      "metadata": {
        "id": "X_xl6pjKXsW7"
      },
      "source": [
        "X = sp.stats.norm.rvs(size=100)\n",
        "Y = sp.stats.norm.rvs(size=1000)\n",
        "Z = sp.stats.norm.rvs(size=10000)\n",
        "df = 1\n",
        "CHI = sp.stats.chi2.rvs(df, size=1000)"
      ],
      "execution_count": 9,
      "outputs": []
    },
    {
      "cell_type": "code",
      "metadata": {
        "id": "3UU7Q6hUdkO-",
        "outputId": "50ab52cc-b2a6-404c-a4d6-d0b9d773db5e",
        "colab": {
          "base_uri": "https://localhost:8080/"
        }
      },
      "source": [
        "sp.stats.kstest(X, 'norm')"
      ],
      "execution_count": 10,
      "outputs": [
        {
          "output_type": "execute_result",
          "data": {
            "text/plain": [
              "KstestResult(statistic=0.06782400580542214, pvalue=0.7626232947611578)"
            ]
          },
          "metadata": {
            "tags": []
          },
          "execution_count": 10
        }
      ]
    },
    {
      "cell_type": "code",
      "metadata": {
        "id": "0bDepiTxdxjV",
        "outputId": "f515883a-f835-45ae-d8ba-cd384fcaff03",
        "colab": {
          "base_uri": "https://localhost:8080/"
        }
      },
      "source": [
        "sp.stats.kstest(Y, 'norm')"
      ],
      "execution_count": 11,
      "outputs": [
        {
          "output_type": "execute_result",
          "data": {
            "text/plain": [
              "KstestResult(statistic=0.020536822604793503, pvalue=0.7928931457709346)"
            ]
          },
          "metadata": {
            "tags": []
          },
          "execution_count": 11
        }
      ]
    },
    {
      "cell_type": "code",
      "metadata": {
        "id": "ldQqd6CtdxPT",
        "outputId": "9a1d6c45-579f-4597-cdca-12b7c0c8adf6",
        "colab": {
          "base_uri": "https://localhost:8080/"
        }
      },
      "source": [
        "sp.stats.kstest(Z, 'norm')"
      ],
      "execution_count": 12,
      "outputs": [
        {
          "output_type": "execute_result",
          "data": {
            "text/plain": [
              "KstestResult(statistic=0.010530372837556146, pvalue=0.21742128531776203)"
            ]
          },
          "metadata": {
            "tags": []
          },
          "execution_count": 12
        }
      ]
    },
    {
      "cell_type": "code",
      "metadata": {
        "id": "zJrtFd2hdw-F",
        "outputId": "831835f1-86b4-447a-a781-4d4ccf0b0812",
        "colab": {
          "base_uri": "https://localhost:8080/"
        }
      },
      "source": [
        "sp.stats.kstest(CHI, 'norm')\n"
      ],
      "execution_count": 13,
      "outputs": [
        {
          "output_type": "execute_result",
          "data": {
            "text/plain": [
              "KstestResult(statistic=0.5000009011624119, pvalue=1.0623315523337076e-231)"
            ]
          },
          "metadata": {
            "tags": []
          },
          "execution_count": 13
        }
      ]
    },
    {
      "cell_type": "markdown",
      "metadata": {
        "id": "mN64wAzieIQr"
      },
      "source": [
        "#statistic is the maximum distance between the 2 comulative distribution\n",
        "# p value must be << than my thresh\n",
        "# ripsonde alla domanda : provengono dalla stessa distribuzione ??"
      ]
    },
    {
      "cell_type": "code",
      "metadata": {
        "colab": {
          "base_uri": "https://localhost:8080/"
        },
        "id": "hyNiZ_5dXska",
        "outputId": "4d5f82f3-5e7c-4b99-b387-316566f3c6f7"
      },
      "source": [
        " sp.stats.ks_2samp(X,Y)"
      ],
      "execution_count": 15,
      "outputs": [
        {
          "output_type": "execute_result",
          "data": {
            "text/plain": [
              "Ks_2sampResult(statistic=0.065, pvalue=0.8177791664689186)"
            ]
          },
          "metadata": {
            "tags": []
          },
          "execution_count": 15
        }
      ]
    },
    {
      "cell_type": "markdown",
      "metadata": {
        "id": "GbHE2hztod40"
      },
      "source": [
        "## PARTE 2 \n",
        "\n",
        "#riproduzione articolo earthquakes"
      ]
    },
    {
      "cell_type": "code",
      "metadata": {
        "colab": {
          "base_uri": "https://localhost:8080/"
        },
        "id": "4TL2tsQ4wsEA",
        "outputId": "268b0cf7-569c-40cf-a0af-4214d371fcf3"
      },
      "source": [
        "#all the imports I needed\n",
        "from __future__ import print_function, division\n",
        "import pandas as pd\n",
        "import pylab as pl\n",
        "import scipy as sp\n",
        "from scipy import stats\n",
        "%pylab inline\n",
        "pl.style.use(\"https://raw.githubusercontent.com/fedhere/DSPS/master/fbb.mplstyle\")"
      ],
      "execution_count": 16,
      "outputs": [
        {
          "output_type": "stream",
          "text": [
            "Populating the interactive namespace from numpy and matplotlib\n"
          ],
          "name": "stdout"
        }
      ]
    },
    {
      "cell_type": "code",
      "metadata": {
        "id": "9C2Qqcrpwrnm"
      },
      "source": [
        "# IMPORTIAMO I DATI dal raw file presente su Github\n",
        "data = pd.read_csv('https://raw.githubusercontent.com/fedhere/MLPNS2021/main/NHRT/earthquakes.csv',sep=' ')"
      ],
      "execution_count": 19,
      "outputs": []
    },
    {
      "cell_type": "code",
      "metadata": {
        "colab": {
          "base_uri": "https://localhost:8080/"
        },
        "id": "sdcBT83twrdx",
        "outputId": "d6829701-9baa-421d-871c-f639727b8834"
      },
      "source": [
        "data.describe\n"
      ],
      "execution_count": 18,
      "outputs": [
        {
          "output_type": "execute_result",
          "data": {
            "text/plain": [
              "<bound method NDFrame.describe of        #YYY/MM/DD  HH:mm:SS.ss  ET  GT  ... Unnamed: 30  Unnamed: 31 NPH  NGRM\n",
              "0      1984/01/01  01:30:57.52  eq NaN  ...         NaN          NaN NaN   NaN\n",
              "1      1984/01/01  05:31:34.16  eq NaN  ...         NaN          NaN NaN   NaN\n",
              "2      1984/01/01  06:59:05.14  eq NaN  ...         NaN          NaN NaN   NaN\n",
              "3      1984/01/01  11:10:25.29  eq NaN  ...         NaN          NaN NaN   NaN\n",
              "4      1984/01/01  19:38:19.79  eq NaN  ...         NaN          NaN NaN   NaN\n",
              "...           ...          ...  ..  ..  ...         ...          ...  ..   ...\n",
              "70793  2002/12/29  19:37:24.56  eq NaN  ...         NaN          NaN NaN   NaN\n",
              "70794  2002/12/29  20:17:33.40  eq NaN  ...         NaN          NaN NaN   NaN\n",
              "70795  2002/12/29  20:21:28.73  eq NaN  ...         NaN          NaN NaN   NaN\n",
              "70796  2002/12/30  21:51:52.55  eq NaN  ...         NaN          NaN NaN   NaN\n",
              "70797  2002/12/30  23:38:49.79  eq NaN  ...         NaN          NaN NaN   NaN\n",
              "\n",
              "[70798 rows x 34 columns]>"
            ]
          },
          "metadata": {
            "tags": []
          },
          "execution_count": 18
        }
      ]
    },
    {
      "cell_type": "code",
      "metadata": {
        "colab": {
          "base_uri": "https://localhost:8080/",
          "height": 204
        },
        "id": "9A5hePv5wrRW",
        "outputId": "512831f7-f474-4cca-9b22-9c6cbf14e212"
      },
      "source": [
        "# cambiamo nome ai dati e visualizziamo quelli che ci interessano\n",
        "eqdata = data.rename({'#YYY/MM/DD':'date','HH:mm:SS.ss':'time','Unnamed: 5':'mag'},axis=1)[['date','time','mag']]\n",
        "eqdata.head()\n"
      ],
      "execution_count": 22,
      "outputs": [
        {
          "output_type": "execute_result",
          "data": {
            "text/html": [
              "<div>\n",
              "<style scoped>\n",
              "    .dataframe tbody tr th:only-of-type {\n",
              "        vertical-align: middle;\n",
              "    }\n",
              "\n",
              "    .dataframe tbody tr th {\n",
              "        vertical-align: top;\n",
              "    }\n",
              "\n",
              "    .dataframe thead th {\n",
              "        text-align: right;\n",
              "    }\n",
              "</style>\n",
              "<table border=\"1\" class=\"dataframe\">\n",
              "  <thead>\n",
              "    <tr style=\"text-align: right;\">\n",
              "      <th></th>\n",
              "      <th>date</th>\n",
              "      <th>time</th>\n",
              "      <th>mag</th>\n",
              "    </tr>\n",
              "  </thead>\n",
              "  <tbody>\n",
              "    <tr>\n",
              "      <th>0</th>\n",
              "      <td>1984/01/01</td>\n",
              "      <td>01:30:57.52</td>\n",
              "      <td>2.02</td>\n",
              "    </tr>\n",
              "    <tr>\n",
              "      <th>1</th>\n",
              "      <td>1984/01/01</td>\n",
              "      <td>05:31:34.16</td>\n",
              "      <td>2.12</td>\n",
              "    </tr>\n",
              "    <tr>\n",
              "      <th>2</th>\n",
              "      <td>1984/01/01</td>\n",
              "      <td>06:59:05.14</td>\n",
              "      <td>2.43</td>\n",
              "    </tr>\n",
              "    <tr>\n",
              "      <th>3</th>\n",
              "      <td>1984/01/01</td>\n",
              "      <td>11:10:25.29</td>\n",
              "      <td>2.07</td>\n",
              "    </tr>\n",
              "    <tr>\n",
              "      <th>4</th>\n",
              "      <td>1984/01/01</td>\n",
              "      <td>19:38:19.79</td>\n",
              "      <td>2.13</td>\n",
              "    </tr>\n",
              "  </tbody>\n",
              "</table>\n",
              "</div>"
            ],
            "text/plain": [
              "         date         time   mag\n",
              "0  1984/01/01  01:30:57.52  2.02\n",
              "1  1984/01/01  05:31:34.16  2.12\n",
              "2  1984/01/01  06:59:05.14  2.43\n",
              "3  1984/01/01  11:10:25.29  2.07\n",
              "4  1984/01/01  19:38:19.79  2.13"
            ]
          },
          "metadata": {
            "tags": []
          },
          "execution_count": 22
        }
      ]
    },
    {
      "cell_type": "code",
      "metadata": {
        "id": "F_-MzqLCsDCD",
        "outputId": "61f347e1-f40d-409d-de0c-1edd4e936337",
        "colab": {
          "base_uri": "https://localhost:8080/"
        }
      },
      "source": [
        "# devo convertire in uno tipo di file più utilizzabile  e unire queste due colonne in una unica\n",
        "eqdata.time.dtype, eqdata.date.dtype\n"
      ],
      "execution_count": 23,
      "outputs": [
        {
          "output_type": "execute_result",
          "data": {
            "text/plain": [
              "(dtype('O'), dtype('O'))"
            ]
          },
          "metadata": {
            "tags": []
          },
          "execution_count": 23
        }
      ]
    },
    {
      "cell_type": "code",
      "metadata": {
        "colab": {
          "base_uri": "https://localhost:8080/"
        },
        "id": "ydC-e4Un3lJ3",
        "outputId": "a5370181-71b6-4ef8-d677-30e64c6701cd"
      },
      "source": [
        "#delete\n",
        "#fixing time which ends with 60.00 sec\n",
        "for i in range(len(eqdata)):            # faccio passare tutte le righe della colonna time\n",
        "    if eqdata.iloc[i].time.endswith('60.00'):   # se per ogni riga iloc(i) la colonna time di data finisce per 60.00\n",
        "        print(eqdata.iloc[i].time[:6] + \"59.99\"). # stampa dal sesto numero compreso e poi stampa a fianco 59.99\n",
        "        eqdata[\"time\"][i] = eqdata.iloc[i].time[:6] + \"59.99\".  # qui eseguo la sostituzione\n",
        "        print (eqdata.iloc[i].time)\n"
      ],
      "execution_count": 24,
      "outputs": [
        {
          "output_type": "stream",
          "text": [
            "04:48:59.99\n",
            "04:48:59.99\n",
            "14:19:59.99\n",
            "14:19:59.99\n"
          ],
          "name": "stdout"
        },
        {
          "output_type": "stream",
          "text": [
            "/usr/local/lib/python3.7/dist-packages/ipykernel_launcher.py:6: SettingWithCopyWarning: \n",
            "A value is trying to be set on a copy of a slice from a DataFrame\n",
            "\n",
            "See the caveats in the documentation: https://pandas.pydata.org/pandas-docs/stable/user_guide/indexing.html#returning-a-view-versus-a-copy\n",
            "  \n"
          ],
          "name": "stderr"
        },
        {
          "output_type": "stream",
          "text": [
            "21:48:59.99\n",
            "21:48:59.99\n",
            "15:34:59.99\n",
            "15:34:59.99\n",
            "06:41:59.99\n",
            "06:41:59.99\n"
          ],
          "name": "stdout"
        }
      ]
    },
    {
      "cell_type": "code",
      "metadata": {
        "id": "E_MsCeNi3lGs"
      },
      "source": [
        "# questo comando crea una nuova colonna  che è l'unione della colonna data e \n",
        "#time e le converte in time per pandas\n",
        "#usiamo al posto del for loop classico un comando compreso nella lista\n",
        "eqdata['datetime'] = pd.to_datetime([eqdata.iloc[i].date + \" \" + \n",
        "                            eqdata.iloc[i].time for i in range(len(eqdata))])"
      ],
      "execution_count": 27,
      "outputs": []
    },
    {
      "cell_type": "code",
      "metadata": {
        "id": "USYFn_8o3lDk",
        "outputId": "b0376f33-ea01-46f9-e6dd-41a5d56fcfbc",
        "colab": {
          "base_uri": "https://localhost:8080/",
          "height": 204
        }
      },
      "source": [
        "eqdata.head()"
      ],
      "execution_count": 28,
      "outputs": [
        {
          "output_type": "execute_result",
          "data": {
            "text/html": [
              "<div>\n",
              "<style scoped>\n",
              "    .dataframe tbody tr th:only-of-type {\n",
              "        vertical-align: middle;\n",
              "    }\n",
              "\n",
              "    .dataframe tbody tr th {\n",
              "        vertical-align: top;\n",
              "    }\n",
              "\n",
              "    .dataframe thead th {\n",
              "        text-align: right;\n",
              "    }\n",
              "</style>\n",
              "<table border=\"1\" class=\"dataframe\">\n",
              "  <thead>\n",
              "    <tr style=\"text-align: right;\">\n",
              "      <th></th>\n",
              "      <th>date</th>\n",
              "      <th>time</th>\n",
              "      <th>mag</th>\n",
              "      <th>datetime</th>\n",
              "    </tr>\n",
              "  </thead>\n",
              "  <tbody>\n",
              "    <tr>\n",
              "      <th>0</th>\n",
              "      <td>1984/01/01</td>\n",
              "      <td>01:30:57.52</td>\n",
              "      <td>2.02</td>\n",
              "      <td>1984-01-01 01:30:57.520</td>\n",
              "    </tr>\n",
              "    <tr>\n",
              "      <th>1</th>\n",
              "      <td>1984/01/01</td>\n",
              "      <td>05:31:34.16</td>\n",
              "      <td>2.12</td>\n",
              "      <td>1984-01-01 05:31:34.160</td>\n",
              "    </tr>\n",
              "    <tr>\n",
              "      <th>2</th>\n",
              "      <td>1984/01/01</td>\n",
              "      <td>06:59:05.14</td>\n",
              "      <td>2.43</td>\n",
              "      <td>1984-01-01 06:59:05.140</td>\n",
              "    </tr>\n",
              "    <tr>\n",
              "      <th>3</th>\n",
              "      <td>1984/01/01</td>\n",
              "      <td>11:10:25.29</td>\n",
              "      <td>2.07</td>\n",
              "      <td>1984-01-01 11:10:25.290</td>\n",
              "    </tr>\n",
              "    <tr>\n",
              "      <th>4</th>\n",
              "      <td>1984/01/01</td>\n",
              "      <td>19:38:19.79</td>\n",
              "      <td>2.13</td>\n",
              "      <td>1984-01-01 19:38:19.790</td>\n",
              "    </tr>\n",
              "  </tbody>\n",
              "</table>\n",
              "</div>"
            ],
            "text/plain": [
              "         date         time   mag                datetime\n",
              "0  1984/01/01  01:30:57.52  2.02 1984-01-01 01:30:57.520\n",
              "1  1984/01/01  05:31:34.16  2.12 1984-01-01 05:31:34.160\n",
              "2  1984/01/01  06:59:05.14  2.43 1984-01-01 06:59:05.140\n",
              "3  1984/01/01  11:10:25.29  2.07 1984-01-01 11:10:25.290\n",
              "4  1984/01/01  19:38:19.79  2.13 1984-01-01 19:38:19.790"
            ]
          },
          "metadata": {
            "tags": []
          },
          "execution_count": 28
        }
      ]
    },
    {
      "cell_type": "markdown",
      "metadata": {
        "id": "6eJ4eGUqzdM9"
      },
      "source": [
        "#a me servirebbero gli intervalli tmeporali"
      ]
    },
    {
      "cell_type": "code",
      "metadata": {
        "id": "wiMlBYLJ3k4r"
      },
      "source": [
        "# first I create the timetamps pairs for the beginning and end of the valid periods. \n",
        "# I do it with a for loop that appends pairs of timestamps to a list that I create at the beginning\n",
        "# create empty container\n",
        "ss = []\n",
        "\n",
        "# loop through all year pairs as year and fraction of year\n",
        "for t in [(1984, 1986.5), \n",
        "          (1990.3, 1992.1), \n",
        "          (1994.6, 1995.6),\n",
        "          (1996.1,1996.5), \n",
        "          (1997,1997.6), \n",
        "          (1997.75,1998.15), \n",
        "          (1998.25,1999.35), \n",
        "          (2000.55,2000.8),\n",
        "          (2000.9 ,2001.25), \n",
        "          (2001.6 ,2002), \n",
        "          (2002.5 ,2003)]:\n",
        "    \n",
        "    # for each pair I convert the year to datetime (easy)\n",
        "    # then I convert the fraction of year and convert it to days and convert that to a delta-time\n",
        "    # finally I add that deltatime to the year datetime. \n",
        "    ss.append((pd.to_datetime(int(t[0]), format=\"%Y\") \n",
        "        + pd.Timedelta('%.f days'%((t[0] - int(t[0])) * 365.25)),  # prendo gli elementi e faccio la differenza\n",
        "               pd.to_datetime(int(t[1]), format=\"%Y\")   # ottengo un valore in frazione di anni allora molptipllico per 365.25 per ottenere il valore in giorni ecc\n",
        "        + pd.Timedelta('%.f days'%((t[1] - int(t[1])) * 365.25))))"
      ],
      "execution_count": 30,
      "outputs": []
    },
    {
      "cell_type": "code",
      "metadata": {
        "id": "YLgF9Axp67-9",
        "outputId": "b44ce3dd-1c01-431f-94b1-9434ed281388",
        "colab": {
          "base_uri": "https://localhost:8080/"
        }
      },
      "source": [
        "ss"
      ],
      "execution_count": 31,
      "outputs": [
        {
          "output_type": "execute_result",
          "data": {
            "text/plain": [
              "[(Timestamp('1984-01-01 00:00:00'), Timestamp('1986-07-03 00:00:00')),\n",
              " (Timestamp('1990-04-21 00:00:00'), Timestamp('1992-02-07 00:00:00')),\n",
              " (Timestamp('1994-08-08 00:00:00'), Timestamp('1995-08-08 00:00:00')),\n",
              " (Timestamp('1996-02-07 00:00:00'), Timestamp('1996-07-02 00:00:00')),\n",
              " (Timestamp('1997-01-01 00:00:00'), Timestamp('1997-08-08 00:00:00')),\n",
              " (Timestamp('1997-10-02 00:00:00'), Timestamp('1998-02-25 00:00:00')),\n",
              " (Timestamp('1998-04-02 00:00:00'), Timestamp('1999-05-09 00:00:00')),\n",
              " (Timestamp('2000-07-20 00:00:00'), Timestamp('2000-10-19 00:00:00')),\n",
              " (Timestamp('2000-11-25 00:00:00'), Timestamp('2001-04-02 00:00:00')),\n",
              " (Timestamp('2001-08-08 00:00:00'), Timestamp('2002-01-01 00:00:00')),\n",
              " (Timestamp('2002-07-03 00:00:00'), Timestamp('2003-01-01 00:00:00'))]"
            ]
          },
          "metadata": {
            "tags": []
          },
          "execution_count": 31
        }
      ]
    },
    {
      "cell_type": "code",
      "metadata": {
        "id": "rIe4zk2L7IQ5",
        "outputId": "e1e44d0a-79f6-4b90-862b-e89c27e2d078",
        "colab": {
          "base_uri": "https://localhost:8080/"
        }
      },
      "source": [
        "# l'articolo mi dice di prendere solo terremoti per mag > 2\n",
        "# devo fare un BROADCASTING  IMPORTANTE\n",
        "print (\"the {} timestamp pairs that are the boundaries of good data periods are:\".format(len(ss)))"
      ],
      "execution_count": 32,
      "outputs": [
        {
          "output_type": "stream",
          "text": [
            "the 11 timestamp pairs that are the boundaries of good data periods are:\n"
          ],
          "name": "stdout"
        }
      ]
    },
    {
      "cell_type": "code",
      "metadata": {
        "id": "7H4R8099-gkv",
        "outputId": "6c585bb6-02df-4a27-894f-48a1cab56b5a",
        "colab": {
          "base_uri": "https://localhost:8080/"
        }
      },
      "source": [
        "# data between start and end of first time period\n",
        "gooddates = (((eqdata.datetime >= ss[0][0]) * (eqdata.datetime <= ss[0][1])) +\\\n",
        "        # data between start and end of second time period\n",
        "        ((eqdata.datetime >=ss [1][0]) * (eqdata.datetime <= ss[1][1])) +\\\n",
        "        ((eqdata.datetime >=ss [2][0]) * (eqdata.datetime <= ss[2][1])) +\\\n",
        "        ((eqdata.datetime >=ss [3][0]) * (eqdata.datetime <= ss[3][1])) +\\\n",
        "        ((eqdata.datetime >=ss [4][0]) * (eqdata.datetime <= ss[4][1])) +\\\n",
        "        ((eqdata.datetime >=ss [5][0]) * (eqdata.datetime <= ss[5][1])) +\\\n",
        "        ((eqdata.datetime >=ss [6][0]) * (eqdata.datetime <= ss[6][1])) +\\\n",
        "        ((eqdata.datetime >=ss [7][0]) * (eqdata.datetime <= ss[7][1])) +\\\n",
        "        ((eqdata.datetime >=ss [8][0]) * (eqdata.datetime <= ss[8][1])) +\\\n",
        "        ((eqdata.datetime >=ss [9][0]) * (eqdata.datetime <= ss[9][1])) +\\\n",
        "        # data between start and end of last time period\n",
        "        ((eqdata.datetime >=ss [10][0]) * (eqdata.datetime <= ss[10][1])\\\n",
        "        ).values)"
      ],
      "execution_count": 33,
      "outputs": [
        {
          "output_type": "stream",
          "text": [
            "/usr/local/lib/python3.7/dist-packages/pandas/core/computation/expressions.py:204: UserWarning: evaluating in Python space because the '*' operator is not supported by numexpr for the bool dtype, use '&' instead\n",
            "  f\"evaluating in Python space because the {repr(op_str)} \"\n",
            "/usr/local/lib/python3.7/dist-packages/pandas/core/computation/expressions.py:204: UserWarning: evaluating in Python space because the '+' operator is not supported by numexpr for the bool dtype, use '|' instead\n",
            "  f\"evaluating in Python space because the {repr(op_str)} \"\n"
          ],
          "name": "stderr"
        }
      ]
    },
    {
      "cell_type": "code",
      "metadata": {
        "id": "73uhEv7p-uHD",
        "outputId": "c9c4c4bf-6cf0-49fb-ef47-285667b51a63",
        "colab": {
          "base_uri": "https://localhost:8080/"
        }
      },
      "source": [
        "# broadcasting to create a dataframe with the good dates only\n",
        "eqGoodData = eqdata[gooddates]\n",
        "eqGoodData.shape\n"
      ],
      "execution_count": 34,
      "outputs": [
        {
          "output_type": "execute_result",
          "data": {
            "text/plain": [
              "(18852, 4)"
            ]
          },
          "metadata": {
            "tags": []
          },
          "execution_count": 34
        }
      ]
    }
  ]
}
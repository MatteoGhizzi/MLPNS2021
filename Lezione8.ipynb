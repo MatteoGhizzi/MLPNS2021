{
  "nbformat": 4,
  "nbformat_minor": 0,
  "metadata": {
    "colab": {
      "name": "Lezione8.ipynb",
      "provenance": [],
      "authorship_tag": "ABX9TyOL3Woq+gggfStNoOItEjdn",
      "include_colab_link": true
    },
    "kernelspec": {
      "name": "python3",
      "display_name": "Python 3"
    },
    "language_info": {
      "name": "python"
    }
  },
  "cells": [
    {
      "cell_type": "markdown",
      "metadata": {
        "id": "view-in-github",
        "colab_type": "text"
      },
      "source": [
        "<a href=\"https://colab.research.google.com/github/MatteoGhizzi/MLPNS2021/blob/main/Lezione8.ipynb\" target=\"_parent\"><img src=\"https://colab.research.google.com/assets/colab-badge.svg\" alt=\"Open In Colab\"/></a>"
      ]
    },
    {
      "cell_type": "code",
      "metadata": {
        "id": "2_O0dC3psZvO"
      },
      "source": [
        "import numpy as np\n",
        "import scipy as sp\n",
        "import pandas as pd\n",
        "import pylab as pl"
      ],
      "execution_count": 2,
      "outputs": []
    },
    {
      "cell_type": "code",
      "metadata": {
        "colab": {
          "base_uri": "https://localhost:8080/"
        },
        "id": "uvjIqdXzsk11",
        "outputId": "b602e6f8-97fe-47cc-bf43-833fbaf040d4"
      },
      "source": [
        "from google.colab import drive\n",
        "drive.mount('/content/drive')\n"
      ],
      "execution_count": null,
      "outputs": [
        {
          "output_type": "stream",
          "text": [
            "Mounted at /content/drive\n"
          ],
          "name": "stdout"
        }
      ]
    },
    {
      "cell_type": "code",
      "metadata": {
        "id": "gv7pUeceskxM"
      },
      "source": [
        "data = pd.read_csv(\"https://raw.githubusercontent.com/fedhere/MLPNS2021/main/HW3_LinearRegression/grb050525A.csv\")"
      ],
      "execution_count": 3,
      "outputs": []
    },
    {
      "cell_type": "code",
      "metadata": {
        "colab": {
          "base_uri": "https://localhost:8080/"
        },
        "id": "JUWXy6YOsktM",
        "outputId": "b5138839-5bb1-4551-c379-9860762d1882"
      },
      "source": [
        "data.head"
      ],
      "execution_count": 4,
      "outputs": [
        {
          "output_type": "execute_result",
          "data": {
            "text/plain": [
              "<bound method NDFrame.head of     filter     time    mag  magerr  upperlimit\n",
              "0        V       66  13.21    0.24           0\n",
              "1        V       67  12.90    0.23           0\n",
              "2        V       68  12.86    0.23           0\n",
              "3        V       69  13.01    0.23           0\n",
              "4        V       70  12.97    0.23           0\n",
              "..     ...      ...    ...     ...         ...\n",
              "114     W1    63738    NaN   21.20           1\n",
              "115     M2    74798    NaN   21.59           1\n",
              "116      U   128928    NaN   20.05           1\n",
              "117      V   971360    NaN   22.09           1\n",
              "118      V  1171176    NaN   21.16           1\n",
              "\n",
              "[119 rows x 5 columns]>"
            ]
          },
          "metadata": {
            "tags": []
          },
          "execution_count": 4
        }
      ]
    },
    {
      "cell_type": "code",
      "metadata": {
        "id": "_BYScuk1skdM"
      },
      "source": [
        "data['logtime'] = np.log10(data.time)\n",
        "data['logmag'] = np.log10(data.mag)"
      ],
      "execution_count": 5,
      "outputs": []
    },
    {
      "cell_type": "code",
      "metadata": {
        "id": "8aAl4X8zskQi",
        "outputId": "9997a716-75e4-4126-bd95-9cfcf97c77f0",
        "colab": {
          "base_uri": "https://localhost:8080/",
          "height": 198
        }
      },
      "source": [
        "data.head()"
      ],
      "execution_count": 6,
      "outputs": [
        {
          "output_type": "execute_result",
          "data": {
            "text/html": [
              "<div>\n",
              "<style scoped>\n",
              "    .dataframe tbody tr th:only-of-type {\n",
              "        vertical-align: middle;\n",
              "    }\n",
              "\n",
              "    .dataframe tbody tr th {\n",
              "        vertical-align: top;\n",
              "    }\n",
              "\n",
              "    .dataframe thead th {\n",
              "        text-align: right;\n",
              "    }\n",
              "</style>\n",
              "<table border=\"1\" class=\"dataframe\">\n",
              "  <thead>\n",
              "    <tr style=\"text-align: right;\">\n",
              "      <th></th>\n",
              "      <th>filter</th>\n",
              "      <th>time</th>\n",
              "      <th>mag</th>\n",
              "      <th>magerr</th>\n",
              "      <th>upperlimit</th>\n",
              "      <th>logtime</th>\n",
              "      <th>logmag</th>\n",
              "    </tr>\n",
              "  </thead>\n",
              "  <tbody>\n",
              "    <tr>\n",
              "      <th>0</th>\n",
              "      <td>V</td>\n",
              "      <td>66</td>\n",
              "      <td>13.21</td>\n",
              "      <td>0.24</td>\n",
              "      <td>0</td>\n",
              "      <td>1.819544</td>\n",
              "      <td>1.120903</td>\n",
              "    </tr>\n",
              "    <tr>\n",
              "      <th>1</th>\n",
              "      <td>V</td>\n",
              "      <td>67</td>\n",
              "      <td>12.90</td>\n",
              "      <td>0.23</td>\n",
              "      <td>0</td>\n",
              "      <td>1.826075</td>\n",
              "      <td>1.110590</td>\n",
              "    </tr>\n",
              "    <tr>\n",
              "      <th>2</th>\n",
              "      <td>V</td>\n",
              "      <td>68</td>\n",
              "      <td>12.86</td>\n",
              "      <td>0.23</td>\n",
              "      <td>0</td>\n",
              "      <td>1.832509</td>\n",
              "      <td>1.109241</td>\n",
              "    </tr>\n",
              "    <tr>\n",
              "      <th>3</th>\n",
              "      <td>V</td>\n",
              "      <td>69</td>\n",
              "      <td>13.01</td>\n",
              "      <td>0.23</td>\n",
              "      <td>0</td>\n",
              "      <td>1.838849</td>\n",
              "      <td>1.114277</td>\n",
              "    </tr>\n",
              "    <tr>\n",
              "      <th>4</th>\n",
              "      <td>V</td>\n",
              "      <td>70</td>\n",
              "      <td>12.97</td>\n",
              "      <td>0.23</td>\n",
              "      <td>0</td>\n",
              "      <td>1.845098</td>\n",
              "      <td>1.112940</td>\n",
              "    </tr>\n",
              "  </tbody>\n",
              "</table>\n",
              "</div>"
            ],
            "text/plain": [
              "  filter  time    mag  magerr  upperlimit   logtime    logmag\n",
              "0      V    66  13.21    0.24           0  1.819544  1.120903\n",
              "1      V    67  12.90    0.23           0  1.826075  1.110590\n",
              "2      V    68  12.86    0.23           0  1.832509  1.109241\n",
              "3      V    69  13.01    0.23           0  1.838849  1.114277\n",
              "4      V    70  12.97    0.23           0  1.845098  1.112940"
            ]
          },
          "metadata": {
            "tags": []
          },
          "execution_count": 6
        }
      ]
    },
    {
      "cell_type": "code",
      "metadata": {
        "id": "QQZjoSTz2lp5",
        "outputId": "713aab86-c697-4db3-b0b9-12722746a905",
        "colab": {
          "base_uri": "https://localhost:8080/",
          "height": 198
        }
      },
      "source": [
        "data.tail()"
      ],
      "execution_count": 7,
      "outputs": [
        {
          "output_type": "execute_result",
          "data": {
            "text/html": [
              "<div>\n",
              "<style scoped>\n",
              "    .dataframe tbody tr th:only-of-type {\n",
              "        vertical-align: middle;\n",
              "    }\n",
              "\n",
              "    .dataframe tbody tr th {\n",
              "        vertical-align: top;\n",
              "    }\n",
              "\n",
              "    .dataframe thead th {\n",
              "        text-align: right;\n",
              "    }\n",
              "</style>\n",
              "<table border=\"1\" class=\"dataframe\">\n",
              "  <thead>\n",
              "    <tr style=\"text-align: right;\">\n",
              "      <th></th>\n",
              "      <th>filter</th>\n",
              "      <th>time</th>\n",
              "      <th>mag</th>\n",
              "      <th>magerr</th>\n",
              "      <th>upperlimit</th>\n",
              "      <th>logtime</th>\n",
              "      <th>logmag</th>\n",
              "    </tr>\n",
              "  </thead>\n",
              "  <tbody>\n",
              "    <tr>\n",
              "      <th>114</th>\n",
              "      <td>W1</td>\n",
              "      <td>63738</td>\n",
              "      <td>NaN</td>\n",
              "      <td>21.20</td>\n",
              "      <td>1</td>\n",
              "      <td>4.804398</td>\n",
              "      <td>NaN</td>\n",
              "    </tr>\n",
              "    <tr>\n",
              "      <th>115</th>\n",
              "      <td>M2</td>\n",
              "      <td>74798</td>\n",
              "      <td>NaN</td>\n",
              "      <td>21.59</td>\n",
              "      <td>1</td>\n",
              "      <td>4.873890</td>\n",
              "      <td>NaN</td>\n",
              "    </tr>\n",
              "    <tr>\n",
              "      <th>116</th>\n",
              "      <td>U</td>\n",
              "      <td>128928</td>\n",
              "      <td>NaN</td>\n",
              "      <td>20.05</td>\n",
              "      <td>1</td>\n",
              "      <td>5.110347</td>\n",
              "      <td>NaN</td>\n",
              "    </tr>\n",
              "    <tr>\n",
              "      <th>117</th>\n",
              "      <td>V</td>\n",
              "      <td>971360</td>\n",
              "      <td>NaN</td>\n",
              "      <td>22.09</td>\n",
              "      <td>1</td>\n",
              "      <td>5.987380</td>\n",
              "      <td>NaN</td>\n",
              "    </tr>\n",
              "    <tr>\n",
              "      <th>118</th>\n",
              "      <td>V</td>\n",
              "      <td>1171176</td>\n",
              "      <td>NaN</td>\n",
              "      <td>21.16</td>\n",
              "      <td>1</td>\n",
              "      <td>6.068622</td>\n",
              "      <td>NaN</td>\n",
              "    </tr>\n",
              "  </tbody>\n",
              "</table>\n",
              "</div>"
            ],
            "text/plain": [
              "    filter     time  mag  magerr  upperlimit   logtime  logmag\n",
              "114     W1    63738  NaN   21.20           1  4.804398     NaN\n",
              "115     M2    74798  NaN   21.59           1  4.873890     NaN\n",
              "116      U   128928  NaN   20.05           1  5.110347     NaN\n",
              "117      V   971360  NaN   22.09           1  5.987380     NaN\n",
              "118      V  1171176  NaN   21.16           1  6.068622     NaN"
            ]
          },
          "metadata": {
            "tags": []
          },
          "execution_count": 7
        }
      ]
    },
    {
      "cell_type": "code",
      "metadata": {
        "id": "u2JzfDAU8Qt0",
        "outputId": "6179c949-935e-463d-d65e-da78d457617e",
        "colab": {
          "base_uri": "https://localhost:8080/"
        }
      },
      "source": [
        "data.shape"
      ],
      "execution_count": 8,
      "outputs": [
        {
          "output_type": "execute_result",
          "data": {
            "text/plain": [
              "(119, 7)"
            ]
          },
          "metadata": {
            "tags": []
          },
          "execution_count": 8
        }
      ]
    },
    {
      "cell_type": "code",
      "metadata": {
        "id": "Onp9gdTr2r1a",
        "outputId": "6b9755cf-0073-432e-a228-e8a6988d88d9",
        "colab": {
          "base_uri": "https://localhost:8080/",
          "height": 615
        }
      },
      "source": [
        "#create a figure container and an axis object inside of it\n",
        "ax = pl.figure(figsize=(10,10)).add_subplot(111)\n",
        "    \n",
        "#loop on every filter to plot - this will give differnt colors naturally. \n",
        "#Use pl.errorbar to plot the uncertainties\n",
        "for f in data[\"filter\"].unique():\n",
        "    pl.errorbar(data.loc[data[\"filter\"] == f, \"logtime\"], \n",
        "                data.loc[data[\"filter\"] == f, \"mag\"], \n",
        "                yerr=data.loc[data[\"filter\"] == f, \"magerr\"], fmt='.', ms=0,\n",
        "                fcolor=None, label=None)\n",
        "    \n",
        "# replot to add a better marker (optional)\n",
        "for f in data[\"filter\"].unique():\n",
        "    pl.scatter(data.loc[data[\"filter\"] == f, \"logtime\"], \n",
        "               data.loc[data[\"filter\"] == f, \"mag\"], \n",
        "               alpha=1, s=100, linewidth=2,\n",
        "               label=f,\n",
        "               edgecolor='#cccccc')\n",
        "    \n",
        " # I am going to invert the y axis because the \"magnitude\" measurement is an inverse scale: brighter is smaller\n",
        "pl.ylim(24,11.7)          \n",
        "pl.legend()\n",
        "\n",
        "#Always rememebr you axis labels!!\n",
        "pl.ylabel(\"magnitude\", fontsize=20)\n",
        "pl.xlabel(\"log time\", fontsize=20);   "
      ],
      "execution_count": 9,
      "outputs": [
        {
          "output_type": "display_data",
          "data": {
            "image/png": "[encoded data removed]",
            "text/plain": [
              "<Figure size 720x720 with 1 Axes>"
            ]
          },
          "metadata": {
            "tags": [],
            "needs_background": "light"
          }
        }
      ]
    },
    {
      "cell_type": "code",
      "metadata": {
        "id": "IfgNbIog8AER"
      },
      "source": [
        "dataA = data.loc[data.upperlimit == 0]"
      ],
      "execution_count": 10,
      "outputs": []
    },
    {
      "cell_type": "code",
      "metadata": {
        "id": "wAxDZb5D7__p",
        "outputId": "33fd8864-b1c1-4ea9-e5ad-855484f5a702",
        "colab": {
          "base_uri": "https://localhost:8080/"
        }
      },
      "source": [
        "dataA.shape"
      ],
      "execution_count": 11,
      "outputs": [
        {
          "output_type": "execute_result",
          "data": {
            "text/plain": [
              "(108, 7)"
            ]
          },
          "metadata": {
            "tags": []
          },
          "execution_count": 11
        }
      ]
    },
    {
      "cell_type": "code",
      "metadata": {
        "id": "orXq2RfF7_6_",
        "outputId": "eef69806-17a3-48ae-f6ce-6226765dcde6",
        "colab": {
          "base_uri": "https://localhost:8080/",
          "height": 198
        }
      },
      "source": [
        "dataA.head()"
      ],
      "execution_count": 12,
      "outputs": [
        {
          "output_type": "execute_result",
          "data": {
            "text/html": [
              "<div>\n",
              "<style scoped>\n",
              "    .dataframe tbody tr th:only-of-type {\n",
              "        vertical-align: middle;\n",
              "    }\n",
              "\n",
              "    .dataframe tbody tr th {\n",
              "        vertical-align: top;\n",
              "    }\n",
              "\n",
              "    .dataframe thead th {\n",
              "        text-align: right;\n",
              "    }\n",
              "</style>\n",
              "<table border=\"1\" class=\"dataframe\">\n",
              "  <thead>\n",
              "    <tr style=\"text-align: right;\">\n",
              "      <th></th>\n",
              "      <th>filter</th>\n",
              "      <th>time</th>\n",
              "      <th>mag</th>\n",
              "      <th>magerr</th>\n",
              "      <th>upperlimit</th>\n",
              "      <th>logtime</th>\n",
              "      <th>logmag</th>\n",
              "    </tr>\n",
              "  </thead>\n",
              "  <tbody>\n",
              "    <tr>\n",
              "      <th>0</th>\n",
              "      <td>V</td>\n",
              "      <td>66</td>\n",
              "      <td>13.21</td>\n",
              "      <td>0.24</td>\n",
              "      <td>0</td>\n",
              "      <td>1.819544</td>\n",
              "      <td>1.120903</td>\n",
              "    </tr>\n",
              "    <tr>\n",
              "      <th>1</th>\n",
              "      <td>V</td>\n",
              "      <td>67</td>\n",
              "      <td>12.90</td>\n",
              "      <td>0.23</td>\n",
              "      <td>0</td>\n",
              "      <td>1.826075</td>\n",
              "      <td>1.110590</td>\n",
              "    </tr>\n",
              "    <tr>\n",
              "      <th>2</th>\n",
              "      <td>V</td>\n",
              "      <td>68</td>\n",
              "      <td>12.86</td>\n",
              "      <td>0.23</td>\n",
              "      <td>0</td>\n",
              "      <td>1.832509</td>\n",
              "      <td>1.109241</td>\n",
              "    </tr>\n",
              "    <tr>\n",
              "      <th>3</th>\n",
              "      <td>V</td>\n",
              "      <td>69</td>\n",
              "      <td>13.01</td>\n",
              "      <td>0.23</td>\n",
              "      <td>0</td>\n",
              "      <td>1.838849</td>\n",
              "      <td>1.114277</td>\n",
              "    </tr>\n",
              "    <tr>\n",
              "      <th>4</th>\n",
              "      <td>V</td>\n",
              "      <td>70</td>\n",
              "      <td>12.97</td>\n",
              "      <td>0.23</td>\n",
              "      <td>0</td>\n",
              "      <td>1.845098</td>\n",
              "      <td>1.112940</td>\n",
              "    </tr>\n",
              "  </tbody>\n",
              "</table>\n",
              "</div>"
            ],
            "text/plain": [
              "  filter  time    mag  magerr  upperlimit   logtime    logmag\n",
              "0      V    66  13.21    0.24           0  1.819544  1.120903\n",
              "1      V    67  12.90    0.23           0  1.826075  1.110590\n",
              "2      V    68  12.86    0.23           0  1.832509  1.109241\n",
              "3      V    69  13.01    0.23           0  1.838849  1.114277\n",
              "4      V    70  12.97    0.23           0  1.845098  1.112940"
            ]
          },
          "metadata": {
            "tags": []
          },
          "execution_count": 12
        }
      ]
    },
    {
      "cell_type": "code",
      "metadata": {
        "id": "WaVQS6DEJ6wI",
        "outputId": "08b40047-54f5-42bf-f0e9-fedd125d839e",
        "colab": {
          "base_uri": "https://localhost:8080/"
        }
      },
      "source": [
        "x = dataA.logtime.values\n",
        "X = np.c_[np.ones((len(dataA), 1)),\n",
        "          x]\n",
        "y = dataA.mag.values\n",
        "print(\"shape of the input array X\", X.shape)\n",
        "print(\"shape of the input array y\", y.shape)\n",
        "#note the shape in python is flipped compared to the shape in linear algebra"
      ],
      "execution_count": 13,
      "outputs": [
        {
          "output_type": "stream",
          "text": [
            "shape of the input array X (108, 2)\n",
            "shape of the input array y (108,)\n"
          ],
          "name": "stdout"
        }
      ]
    },
    {
      "cell_type": "code",
      "metadata": {
        "id": "CN9UFVCq7_0c",
        "outputId": "9fd3d68d-546c-4bb2-f3a0-97858e259ce5",
        "colab": {
          "base_uri": "https://localhost:8080/"
        }
      },
      "source": [
        "\n",
        "from sklearn.linear_model import LinearRegression\n",
        "lr = LinearRegression()\n",
        "\n",
        "lr.fit(X, y)\n",
        "print (\"best fit parameters from the sklearn LinearRegression(): \" + \n",
        "       \"intercept {:.2f}, slope {:.2f}\".format(lr.intercept_, lr.coef_[1]))"
      ],
      "execution_count": 14,
      "outputs": [
        {
          "output_type": "stream",
          "text": [
            "best fit parameters from the sklearn LinearRegression(): intercept 8.58, slope 2.51\n"
          ],
          "name": "stdout"
        }
      ]
    },
    {
      "cell_type": "code",
      "metadata": {
        "id": "BDLmvpgGKbXQ",
        "outputId": "711f5c83-00b6-4c08-866c-046561f50fca",
        "colab": {
          "base_uri": "https://localhost:8080/"
        }
      },
      "source": [
        "# minimizziamo la funzione obbiettivo\n",
        "\n",
        "from scipy.optimize import minimize\n",
        "\n",
        "def line(intercept, slope, x):\n",
        "    return slope * x + intercept\n",
        "def l1(args, x, y):\n",
        "    a, b = args\n",
        "    return sum(np.abs(y - line(a, b, x)))\n",
        "\n",
        "\n",
        "initialGuess = (10, 1)\n",
        "\n",
        "l1Solution = minimize(l1, initialGuess, args=(x, y))\n",
        "print(l1Solution)\n",
        "print(\"\")\n",
        "print(\"best fit parameters from the minimization of L1: \" + \n",
        "       \"slope {:.2f}, intercept {:.2f}\".format(*l1Solution.x))\n"
      ],
      "execution_count": 31,
      "outputs": [
        {
          "output_type": "stream",
          "text": [
            "Object `np.c` not found.\n"
          ],
          "name": "stdout"
        }
      ]
    }
  ]
}
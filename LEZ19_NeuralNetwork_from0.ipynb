{
  "nbformat": 4,
  "nbformat_minor": 0,
  "metadata": {
    "colab": {
      "name": "LEZ19_NeuralNetwork_from0.ipynb",
      "provenance": [],
      "authorship_tag": "ABX9TyMFUdIadLyKCLkU3K5u8mJN",
      "include_colab_link": true
    },
    "kernelspec": {
      "name": "python3",
      "display_name": "Python 3"
    },
    "language_info": {
      "name": "python"
    }
  },
  "cells": [
    {
      "cell_type": "markdown",
      "metadata": {
        "id": "view-in-github",
        "colab_type": "text"
      },
      "source": [
        "<a href=\"https://colab.research.google.com/github/MatteoGhizzi/MLPNS2021/blob/main/LEZ19_NeuralNetwork_from0.ipynb\" target=\"_parent\"><img src=\"https://colab.research.google.com/assets/colab-badge.svg\" alt=\"Open In Colab\"/></a>"
      ]
    },
    {
      "cell_type": "code",
      "metadata": {
        "id": "benbyujfHqao"
      },
      "source": [
        "import numpy as np"
      ],
      "execution_count": 1,
      "outputs": []
    },
    {
      "cell_type": "code",
      "metadata": {
        "id": "EUd2h7wCKzOp"
      },
      "source": [
        " X = np.array([[0,0,1],[0,1,1],[1,0,1],[1,1,1]])"
      ],
      "execution_count": 2,
      "outputs": []
    },
    {
      "cell_type": "code",
      "metadata": {
        "colab": {
          "base_uri": "https://localhost:8080/"
        },
        "id": "NVhJOui8KzLm",
        "outputId": "512a230a-e5d0-4493-e538-c17041a33946"
      },
      "source": [
        "X"
      ],
      "execution_count": 3,
      "outputs": [
        {
          "output_type": "execute_result",
          "data": {
            "text/plain": [
              "array([[0, 0, 1],\n",
              "       [0, 1, 1],\n",
              "       [1, 0, 1],\n",
              "       [1, 1, 1]])"
            ]
          },
          "metadata": {
            "tags": []
          },
          "execution_count": 3
        }
      ]
    },
    {
      "cell_type": "code",
      "metadata": {
        "colab": {
          "base_uri": "https://localhost:8080/"
        },
        "id": "ybujBubxKzI_",
        "outputId": "fb48d46f-6a28-458c-f7cb-791d14961012"
      },
      "source": [
        "y = np.array([[0,1,1,0]]).T\n",
        "y"
      ],
      "execution_count": 9,
      "outputs": [
        {
          "output_type": "execute_result",
          "data": {
            "text/plain": [
              "array([[0],\n",
              "       [1],\n",
              "       [1],\n",
              "       [0]])"
            ]
          },
          "metadata": {
            "tags": []
          },
          "execution_count": 9
        }
      ]
    },
    {
      "cell_type": "code",
      "metadata": {
        "id": "3ATKOVFGKzF3"
      },
      "source": [
        "def sigmoid(X):\n",
        "  return 1. / (1 + np.exp(-X))"
      ],
      "execution_count": 13,
      "outputs": []
    },
    {
      "cell_type": "code",
      "metadata": {
        "id": "o9kQWVJuKzB6"
      },
      "source": [
        "def loss(prediction):\n",
        "  return y - prediction"
      ],
      "execution_count": 15,
      "outputs": []
    },
    {
      "cell_type": "code",
      "metadata": {
        "id": "xsQPN-uKLxZ0"
      },
      "source": [
        "# neuroni e layers\n",
        "\n",
        "training = 6000"
      ],
      "execution_count": 7,
      "outputs": []
    },
    {
      "cell_type": "code",
      "metadata": {
        "id": "rcuxrwuVLxXF"
      },
      "source": [
        "np.random.seed(1)"
      ],
      "execution_count": 8,
      "outputs": []
    },
    {
      "cell_type": "code",
      "metadata": {
        "id": "nfhLaBQFOPeg"
      },
      "source": [
        "#define the derivative of the activation function\n",
        "def dsigmoid(x):\n",
        "  return x * (1 - x)"
      ],
      "execution_count": 11,
      "outputs": []
    },
    {
      "cell_type": "code",
      "metadata": {
        "colab": {
          "base_uri": "https://localhost:8080/"
        },
        "id": "VtLE60t_LxUz",
        "outputId": "30e9a0eb-018d-405c-f434-8b94024def84"
      },
      "source": [
        "# sinapsi\n",
        "\n",
        "# input 4X3 output 4X1\n",
        "# allora la funzione deve essere 3X4\n",
        "syn0 = 2*np.random.random((3,1)) - 1\n",
        "for iter in range(training):\n",
        "\n",
        "   # forward propagation step\n",
        "    inputLayer = X\n",
        "    #dot product\n",
        "    l1 = np.dot(inputLayer, syn0)\n",
        "    #activate\n",
        "    output = sigmoid(l1)\n",
        "\n",
        "    # how much did we miss by?\n",
        "    output_error = loss(output)\n",
        "    #back propagation step\n",
        "    # multiply how much we missed by the\n",
        "    # slope of the sigmoid at the values of L1  \n",
        "    output_delta = output_error * dsigmoid(output)\n",
        "    # how much did we miss?\n",
        " \n",
        "    # update weights\n",
        "    syn0 += np.dot(inputLayer.T, output_delta)\n",
        "print (\"Output After Training:\\n\", output)\n",
        "print (\"target: \\n\", y)"
      ],
      "execution_count": 16,
      "outputs": [
        {
          "output_type": "stream",
          "text": [
            "Output After Training:\n",
            " [[0.5]\n",
            " [0.5]\n",
            " [0.5]\n",
            " [0.5]]\n",
            "target: \n",
            " [[0]\n",
            " [1]\n",
            " [1]\n",
            " [0]]\n"
          ],
          "name": "stdout"
        }
      ]
    },
    {
      "cell_type": "code",
      "metadata": {
        "colab": {
          "base_uri": "https://localhost:8080/"
        },
        "id": "TAfToBzAOnMJ",
        "outputId": "8c709fb6-6116-4475-ca49-90a4b9c80c52"
      },
      "source": [
        "# randomly initialize our weights with mean 0\n",
        "syn0 = 2 * np.random.random((3, 4)) - 1\n",
        "syn1 = 2 * np.random.random((4, 1)) - 1\n",
        "print (syn0.shape, \"\\n\", syn1.shape)\n",
        "\n",
        "loss_hidden = []\n",
        "loss_output = []\n",
        "\n",
        "# 2 layers\n",
        "for iterate in range(training):\n",
        "  inputLayer = X  \n",
        "  #dot product\n",
        "  la1 = np.dot(inputLayer, syn0)\n",
        "  #activate\n",
        "  layer1out = sigmoid(la1)\n",
        "\n",
        "  la2 = np.dot(layer1out, syn1)\n",
        "  #activate\n",
        "  outputLayer = sigmoid(la2)\n",
        "  \n",
        "  #calculate loss on the output layer\n",
        "  outputLayer_error = loss(outputLayer)\n",
        "  loss_output.append(outputLayer_error.sum())\n",
        "  outputLayer_delta = outputLayer_error * dsigmoid(outputLayer)\n",
        "\n",
        "  l1_error = outputLayer_delta.dot(syn1.T)\n",
        "  loss_hidden.append(l1_error.sum())\n",
        "  l1_delta = l1_error * dsigmoid(layer1out)\n",
        " \n",
        "  # back propagation step\n",
        "  # multiply how much we missed by the\n",
        "  # slope of the sigmoid at the values in l1\n",
        "\n",
        "  syn1 += outputLayer.T.dot(outputLayer_delta)\n",
        "  syn0 += inputLayer.T.dot(l1_delta)\n",
        "  \n",
        "print (\"Final Prediction:\\n\", outputLayer)\n",
        "\n",
        "print (\"target: \\n\", y)"
      ],
      "execution_count": 17,
      "outputs": [
        {
          "output_type": "stream",
          "text": [
            "(3, 4) \n",
            " (4, 1)\n",
            "Final Prediction:\n",
            " [[0.20121827]\n",
            " [0.71369819]\n",
            " [0.73741234]\n",
            " [0.54124884]]\n",
            "target: \n",
            " [[0]\n",
            " [1]\n",
            " [1]\n",
            " [0]]\n"
          ],
          "name": "stdout"
        }
      ]
    },
    {
      "cell_type": "code",
      "metadata": {
        "id": "9Z39V2J7QA2C"
      },
      "source": [
        "import pylab as pl"
      ],
      "execution_count": 19,
      "outputs": []
    },
    {
      "cell_type": "code",
      "metadata": {
        "colab": {
          "base_uri": "https://localhost:8080/",
          "height": 296
        },
        "id": "Kc_i5EkyOnFU",
        "outputId": "ca9070e7-95ca-4252-93f7-b7b1ac930d59"
      },
      "source": [
        "pl.plot(loss_output, label=\"output\")\n",
        "pl.plot(loss_hidden, label=\"hidden\")\n",
        "pl.legend()\n",
        "pl.xlabel(\"iteration\")\n",
        "pl.ylabel(\"loss\")"
      ],
      "execution_count": 20,
      "outputs": [
        {
          "output_type": "execute_result",
          "data": {
            "text/plain": [
              "Text(0, 0.5, 'loss')"
            ]
          },
          "metadata": {
            "tags": []
          },
          "execution_count": 20
        },
        {
          "output_type": "display_data",
          "data": {
            "image/png": "[encoded data removed]",
            "text/plain": [
              "<Figure size 432x288 with 1 Axes>"
            ]
          },
          "metadata": {
            "tags": [],
            "needs_background": "light"
          }
        }
      ]
    },
    {
      "cell_type": "code",
      "metadata": {
        "id": "iGawRh4kOm-K"
      },
      "source": [
        ""
      ],
      "execution_count": null,
      "outputs": []
    }
  ]
}
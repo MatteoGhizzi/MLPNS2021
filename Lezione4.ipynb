{
  "nbformat": 4,
  "nbformat_minor": 0,
  "metadata": {
    "colab": {
      "name": "Lezione4",
      "provenance": [],
      "authorship_tag": "ABX9TyNS1wht2gSFMLPu+XT4FFc0",
      "include_colab_link": true
    },
    "kernelspec": {
      "name": "python3",
      "display_name": "Python 3"
    },
    "language_info": {
      "name": "python"
    }
  },
  "cells": [
    {
      "cell_type": "markdown",
      "metadata": {
        "id": "view-in-github",
        "colab_type": "text"
      },
      "source": [
        "<a href=\"https://colab.research.google.com/github/MatteoGhizzi/MLPNS2021/blob/main/Lezione4.ipynb\" target=\"_parent\"><img src=\"https://colab.research.google.com/assets/colab-badge.svg\" alt=\"Open In Colab\"/></a>"
      ]
    },
    {
      "cell_type": "code",
      "metadata": {
        "id": "tXSALlgr9aOx"
      },
      "source": [
        "import numpy as np"
      ],
      "execution_count": 1,
      "outputs": []
    },
    {
      "cell_type": "code",
      "metadata": {
        "id": "yh3R4KWc-SPA"
      },
      "source": [
        "np.random?\n"
      ],
      "execution_count": 2,
      "outputs": []
    },
    {
      "cell_type": "code",
      "metadata": {
        "colab": {
          "base_uri": "https://localhost:8080/"
        },
        "id": "FR_Pp2Ee-SaF",
        "outputId": "506adc86-dae0-4abb-ade6-623edf427e61"
      },
      "source": [
        "np.random.rand()"
      ],
      "execution_count": 3,
      "outputs": [
        {
          "output_type": "execute_result",
          "data": {
            "text/plain": [
              "0.729057060251428"
            ]
          },
          "metadata": {
            "tags": []
          },
          "execution_count": 3
        }
      ]
    },
    {
      "cell_type": "code",
      "metadata": {
        "colab": {
          "base_uri": "https://localhost:8080/"
        },
        "id": "8GJNBhmK-Sdi",
        "outputId": "c9be60f2-7a50-4194-e115-17fe3e120876"
      },
      "source": [
        "np.random.rand(10,2).shape #.std per la standard deviation"
      ],
      "execution_count": 4,
      "outputs": [
        {
          "output_type": "execute_result",
          "data": {
            "text/plain": [
              "(10, 2)"
            ]
          },
          "metadata": {
            "tags": []
          },
          "execution_count": 4
        }
      ]
    },
    {
      "cell_type": "code",
      "metadata": {
        "colab": {
          "base_uri": "https://localhost:8080/"
        },
        "id": "mmQIyMyv-Shw",
        "outputId": "3156c945-35f4-47be-cbfd-3bcb642cf77e"
      },
      "source": [
        "np.random.rand(100)"
      ],
      "execution_count": 5,
      "outputs": [
        {
          "output_type": "execute_result",
          "data": {
            "text/plain": [
              "array([0.20754276, 0.76229194, 0.01486438, 0.33951654, 0.73219236,\n",
              "       0.19615939, 0.18838822, 0.63432383, 0.96072141, 0.76421079,\n",
              "       0.71178391, 0.8429249 , 0.21246766, 0.38411766, 0.72991129,\n",
              "       0.54148231, 0.53231084, 0.42889901, 0.24483404, 0.17087109,\n",
              "       0.91053937, 0.75880587, 0.3028151 , 0.60350284, 0.94938181,\n",
              "       0.22545182, 0.71478842, 0.70378433, 0.41194607, 0.55654957,\n",
              "       0.62378939, 0.80915036, 0.85631207, 0.23479803, 0.99204862,\n",
              "       0.53904978, 0.74989464, 0.82069774, 0.55219414, 0.55254239,\n",
              "       0.67042975, 0.05000719, 0.81240956, 0.75747861, 0.81740743,\n",
              "       0.42791177, 0.31881123, 0.36671124, 0.6551018 , 0.31050717,\n",
              "       0.02884315, 0.11395758, 0.17807976, 0.36736615, 0.93678209,\n",
              "       0.36142403, 0.56541673, 0.27206234, 0.66382867, 0.13229096,\n",
              "       0.06758205, 0.64658915, 0.40412807, 0.11572965, 0.31864602,\n",
              "       0.99940957, 0.66743222, 0.03577679, 0.96263244, 0.65597349,\n",
              "       0.88241828, 0.10756906, 0.74894553, 0.18368663, 0.77742623,\n",
              "       0.5620758 , 0.65350345, 0.24021683, 0.20685116, 0.51853503,\n",
              "       0.7132754 , 0.22792261, 0.88965581, 0.62563674, 0.13079546,\n",
              "       0.03822427, 0.77316807, 0.57348513, 0.45928972, 0.71199397,\n",
              "       0.58673816, 0.71188202, 0.65495909, 0.73283689, 0.12513587,\n",
              "       0.73068747, 0.93958598, 0.15043768, 0.26606453, 0.80067146])"
            ]
          },
          "metadata": {
            "tags": []
          },
          "execution_count": 5
        }
      ]
    },
    {
      "cell_type": "code",
      "metadata": {
        "id": "qQjIfJ21-Slz"
      },
      "source": [
        "def mygauss(x, mu, sig):\n",
        "  return np.exp(-(x-mu)/2/sig**2)\n",
        "\n",
        "  x = np.arange(100)\n",
        "  mu = 50\n",
        "  sig = 10\n",
        "  mygauss(x, mu, sig)"
      ],
      "execution_count": 17,
      "outputs": []
    },
    {
      "cell_type": "code",
      "metadata": {
        "colab": {
          "base_uri": "https://localhost:8080/"
        },
        "id": "FZ2xUPUzbyL6",
        "outputId": "28c27ded-c168-42dc-f821-8f0c004ebee6"
      },
      "source": [
        "from __future__ import print_function\n",
        "__author__= 'fbb'\n",
        "\n",
        "import pylab as pl\n",
        "from scipy.optimize import curve_fit, minimize\n",
        "    \n",
        "%pylab inline\n",
        "# this package sets up pretty plots\n",
        "import seaborn\n",
        "seaborn.set_style(\"darkgrid\")"
      ],
      "execution_count": 18,
      "outputs": [
        {
          "output_type": "stream",
          "text": [
            "Populating the interactive namespace from numpy and matplotlib\n"
          ],
          "name": "stdout"
        }
      ]
    },
    {
      "cell_type": "code",
      "metadata": {
        "id": "u6D4dIQ1byXX"
      },
      "source": [
        "distributions = ['binomial']"
      ],
      "execution_count": 20,
      "outputs": []
    },
    {
      "cell_type": "code",
      "metadata": {
        "id": "uxQJtdqi-SpP"
      },
      "source": [
        "np.random.binomial(\n",
        "\n"
      ],
      "execution_count": 22,
      "outputs": []
    },
    {
      "cell_type": "code",
      "metadata": {
        "colab": {
          "base_uri": "https://localhost:8080/",
          "height": 249
        },
        "id": "E7-qBcJG-SuP",
        "outputId": "7e252e28-1921-4493-c874-084bb93e64b9"
      },
      "source": [
        "import numpy as np\n",
        "np.random.seed(456)\n",
        "md = {}\n",
        "# md is an empty disctionary; \n",
        "# if you are not familiar with python dictionaries see https://www.pythonforbeginners.com/dictionary/how-to-use-dictionaries-in-python\n",
        "md['chisq'] = np.random.chisquare(df, size=100)\n",
        "# md now is a dictionary with one object: an array by the key 'chisq'\n",
        "pl.hist(md['binomial'], bins = 30)\n",
        "pl.ylabel('N')\n",
        "pl.xlabel('x');"
      ],
      "execution_count": 23,
      "outputs": [
        {
          "output_type": "error",
          "ename": "NameError",
          "evalue": "ignored",
          "traceback": [
            "\u001b[0;31m---------------------------------------------------------------------------\u001b[0m",
            "\u001b[0;31mNameError\u001b[0m                                 Traceback (most recent call last)",
            "\u001b[0;32m<ipython-input-23-a4e40f5a2623>\u001b[0m in \u001b[0;36m<module>\u001b[0;34m()\u001b[0m\n\u001b[1;32m      4\u001b[0m \u001b[0;31m# md is an empty disctionary;\u001b[0m\u001b[0;34m\u001b[0m\u001b[0;34m\u001b[0m\u001b[0;34m\u001b[0m\u001b[0m\n\u001b[1;32m      5\u001b[0m \u001b[0;31m# if you are not familiar with python dictionaries see https://www.pythonforbeginners.com/dictionary/how-to-use-dictionaries-in-python\u001b[0m\u001b[0;34m\u001b[0m\u001b[0;34m\u001b[0m\u001b[0;34m\u001b[0m\u001b[0m\n\u001b[0;32m----> 6\u001b[0;31m \u001b[0mmd\u001b[0m\u001b[0;34m[\u001b[0m\u001b[0;34m'chisq'\u001b[0m\u001b[0;34m]\u001b[0m \u001b[0;34m=\u001b[0m \u001b[0mnp\u001b[0m\u001b[0;34m.\u001b[0m\u001b[0mrandom\u001b[0m\u001b[0;34m.\u001b[0m\u001b[0mchisquare\u001b[0m\u001b[0;34m(\u001b[0m\u001b[0mdf\u001b[0m\u001b[0;34m,\u001b[0m \u001b[0msize\u001b[0m\u001b[0;34m=\u001b[0m\u001b[0;36m100\u001b[0m\u001b[0;34m)\u001b[0m\u001b[0;34m\u001b[0m\u001b[0;34m\u001b[0m\u001b[0m\n\u001b[0m\u001b[1;32m      7\u001b[0m \u001b[0;31m# md now is a dictionary with one object: an array by the key 'chisq'\u001b[0m\u001b[0;34m\u001b[0m\u001b[0;34m\u001b[0m\u001b[0;34m\u001b[0m\u001b[0m\n\u001b[1;32m      8\u001b[0m \u001b[0mpl\u001b[0m\u001b[0;34m.\u001b[0m\u001b[0mhist\u001b[0m\u001b[0;34m(\u001b[0m\u001b[0mmd\u001b[0m\u001b[0;34m[\u001b[0m\u001b[0;34m'binomial'\u001b[0m\u001b[0;34m]\u001b[0m\u001b[0;34m,\u001b[0m \u001b[0mbins\u001b[0m \u001b[0;34m=\u001b[0m \u001b[0;36m30\u001b[0m\u001b[0;34m)\u001b[0m\u001b[0;34m\u001b[0m\u001b[0;34m\u001b[0m\u001b[0m\n",
            "\u001b[0;31mNameError\u001b[0m: name 'df' is not defined"
          ]
        }
      ]
    },
    {
      "cell_type": "code",
      "metadata": {
        "colab": {
          "base_uri": "https://localhost:8080/"
        },
        "id": "L1YqYx5heYdr",
        "outputId": "8fa13d53-c9f7-4a91-d2ac-35a64cd5af01"
      },
      "source": [
        "from __future__ import print_function\n",
        "__author__= 'fbb'\n",
        "\n",
        "import pylab as pl\n",
        "from scipy.optimize import curve_fit, minimize\n",
        "    \n",
        "%pylab inline\n",
        "# this package sets up pretty plots\n",
        "import seaborn\n",
        "seaborn.set_style(\"darkgrid\")"
      ],
      "execution_count": 24,
      "outputs": [
        {
          "output_type": "stream",
          "text": [
            "Populating the interactive namespace from numpy and matplotlib\n"
          ],
          "name": "stdout"
        }
      ]
    },
    {
      "cell_type": "code",
      "metadata": {
        "id": "JDpxUyDseYnN"
      },
      "source": [
        "distributions = ['binomial']"
      ],
      "execution_count": 30,
      "outputs": []
    },
    {
      "cell_type": "code",
      "metadata": {
        "id": "mGrN89ByeYrK"
      },
      "source": [
        "mymean = 100"
      ],
      "execution_count": 31,
      "outputs": []
    },
    {
      "cell_type": "code",
      "metadata": {
        "id": "-gse_VEDeYvp"
      },
      "source": [
        "# the chi sq distribution takes the number of degrees of freedom, which luckily is the same as the mean!\n",
        "df = mymean"
      ],
      "execution_count": 32,
      "outputs": []
    },
    {
      "cell_type": "code",
      "metadata": {
        "id": "ykqeqHIUg37q"
      },
      "source": [
        "np.random.binomial?"
      ],
      "execution_count": 37,
      "outputs": []
    },
    {
      "cell_type": "code",
      "metadata": {
        "colab": {
          "base_uri": "https://localhost:8080/",
          "height": 279
        },
        "id": "y0ClY6ynevQX",
        "outputId": "4a10c095-0a26-4491-924e-d854d804e208"
      },
      "source": [
        "# Note: I am adding imports here, to show the workflow: \n",
        "# at this point I realize what packages I need and I import them. \n",
        "# but this is a PEP8 violation. \n",
        "# It is a good habit to put the includes at the top \n",
        "# so the code fails right away if the packages are missing. \n",
        "# Otherwise a user may have a piece of code running for a long time, \n",
        "# and then fail when the package cannot be imported... \n",
        "# (unless they are only imported under conditions, e.g. in an if statement)\n",
        "\n",
        "import numpy as np\n",
        "np.random.seed(456)\n",
        "md = {}\n",
        "# md is an empty disctionary; \n",
        "# if you are not familiar with python dictionaries see https://www.pythonforbeginners.com/dictionary/how-to-use-dictionaries-in-python\n",
        "md['binomial'] = np.random.binomial(100, 0.5 ,size=100)\n",
        "# md now is a dictionary with one object: an array by the key 'chisq'\n",
        "pl.hist(md['binomial'], bins = 30)\n",
        "pl.ylabel('N')\n",
        "pl.xlabel('x');"
      ],
      "execution_count": 39,
      "outputs": [
        {
          "output_type": "display_data",
          "data": {
            "image/png": "[encoded data removed]",
            "text/plain": [
              "<Figure size 432x288 with 1 Axes>"
            ]
          },
          "metadata": {
            "tags": []
          }
        }
      ]
    },
    {
      "cell_type": "code",
      "metadata": {
        "colab": {
          "base_uri": "https://localhost:8080/"
        },
        "id": "Ql7Wr83Sevek",
        "outputId": "46f3efc9-60df-4061-d88a-0dcde4e690f0"
      },
      "source": [
        "print (\"binomial mean: %.2f, standard deviation: %.2f\"%(md['binomial'].mean(), md['binomial'].std()))"
      ],
      "execution_count": 40,
      "outputs": [
        {
          "output_type": "stream",
          "text": [
            "binomial mean: 49.69, standard deviation: 5.47\n"
          ],
          "name": "stdout"
        }
      ]
    },
    {
      "cell_type": "code",
      "metadata": {
        "colab": {
          "base_uri": "https://localhost:8080/"
        },
        "id": "pxw2WBuT-S7w",
        "outputId": "6e4c5d50-4218-40bc-9702-577c59df06e0"
      },
      "source": [
        "mysize = (2000 / (np.array(range(1, 100)))).astype(int)\n",
        "# mysize = 1000 / (np.array(range(1, 100) + [10]))\n",
        "# mysize = (np.random.rand(100) * 1000).astype(int)\n",
        "print (\"shape of the 'size' list that contains the size of each distribution\", mysize.shape)"
      ],
      "execution_count": 41,
      "outputs": [
        {
          "output_type": "stream",
          "text": [
            "shape of the 'size' list that contains the size of each distribution (99,)\n"
          ],
          "name": "stdout"
        }
      ]
    },
    {
      "cell_type": "code",
      "metadata": {
        "colab": {
          "base_uri": "https://localhost:8080/",
          "height": 296
        },
        "id": "3sDhZ1bgmKyk",
        "outputId": "48b6eaba-beaa-4c57-8607-b5a383ecedf8"
      },
      "source": [
        "pl.plot(mysize, '.')\n",
        "pl.xlabel(\"index\")\n",
        "pl.ylabel(\"size of the array\")"
      ],
      "execution_count": 42,
      "outputs": [
        {
          "output_type": "execute_result",
          "data": {
            "text/plain": [
              "Text(0, 0.5, 'size of the array')"
            ]
          },
          "metadata": {
            "tags": []
          },
          "execution_count": 42
        },
        {
          "output_type": "display_data",
          "data": {
            "image/png": "[encoded data removed]",
            "text/plain": [
              "<Figure size 432x288 with 1 Axes>"
            ]
          },
          "metadata": {
            "tags": []
          }
        }
      ]
    },
    {
      "cell_type": "code",
      "metadata": {
        "colab": {
          "base_uri": "https://localhost:8080/",
          "height": 433
        },
        "id": "5oLLuRgAm-RU",
        "outputId": "3dabf22e-c850-4f23-8a95-62d2a25b3490"
      },
      "source": [
        "# I am gonna overwrite the disctionary entry created into a nested dictionary \n",
        "# the outside dictionary hosts the distributions as dictionary, \n",
        "# and each distribution dictionary contains the 100 distribution (arrays of diferent sizes)\n",
        "\n",
        "md['binomial'] = {} \n",
        "\n",
        "#and do it in a for loop. not pythonic, but easily readable\n",
        "\n",
        "for n in mysize:\n",
        "    md['binomial'][n] = np.random.binomial(200, 0.5, size = n)\n",
        "    \n",
        "# save the means for plotting later    \n",
        "\n",
        "md['binomial']['means'] = {}\n",
        "axchisq_mu_n = pl.figure(figsize=(10,6)).add_subplot(111)\n",
        "\n",
        "for nn in md['binomial']:\n",
        "    if not type(nn) == str:\n",
        "        md['binomial']['means'][nn] = md['binomial'][nn].mean()\n",
        "        #and plot it\n",
        "        axchisq_mu_n.plot(nn, md['binomial']['means'][nn], 'o')\n",
        "        axchisq_mu_n.set_xlabel('sample size', fontsize=18)\n",
        "        axchisq_mu_n.set_ylabel('sample mean', fontsize=18)\n",
        "        axchisq_mu_n.set_title('binomial', fontsize=18)\n",
        "        axchisq_mu_n.plot([min(mysize), max(mysize)], [df, df], 'k')\n",
        "axchisq_mu_n.text(axchisq_mu_n.get_xlim()[1] * .6, 100, \"expected mean\", \n",
        "                  va=\"bottom\", fontsize=20)"
      ],
      "execution_count": 45,
      "outputs": [
        {
          "output_type": "execute_result",
          "data": {
            "text/plain": [
              "Text(1259.3999999999999, 100, 'expected mean')"
            ]
          },
          "metadata": {
            "tags": []
          },
          "execution_count": 45
        },
        {
          "output_type": "display_data",
          "data": {
            "image/png": "[encoded data removed]",
            "text/plain": [
              "<Figure size 720x432 with 1 Axes>"
            ]
          },
          "metadata": {
            "tags": []
          }
        }
      ]
    },
    {
      "cell_type": "code",
      "metadata": {
        "colab": {
          "base_uri": "https://localhost:8080/",
          "height": 631
        },
        "id": "JtKCrwZSo8tM",
        "outputId": "2f0ce15a-1d6e-4534-b1e9-2f1e2ba2aa82"
      },
      "source": [
        "allmeans = list(md['binomial']['means'].values())\n",
        "\n",
        "pl.figure(figsize=(10, 10))\n",
        "pl.hist(allmeans,bins=30)\n",
        "pl.xlabel('sample mean', fontsize = 18)\n",
        "pl.ylabel('N', fontsize = 18)"
      ],
      "execution_count": 46,
      "outputs": [
        {
          "output_type": "execute_result",
          "data": {
            "text/plain": [
              "Text(0, 0.5, 'N')"
            ]
          },
          "metadata": {
            "tags": []
          },
          "execution_count": 46
        },
        {
          "output_type": "display_data",
          "data": {
            "image/png": "[encoded data removed]",
            "text/plain": [
              "<Figure size 720x720 with 1 Axes>"
            ]
          },
          "metadata": {
            "tags": []
          }
        }
      ]
    }
  ]
}
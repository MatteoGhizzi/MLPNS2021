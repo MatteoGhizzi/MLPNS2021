{
  "nbformat": 4,
  "nbformat_minor": 0,
  "metadata": {
    "colab": {
      "name": "LEZ20_Autoencode_digits.ipynb",
      "provenance": [],
      "authorship_tag": "ABX9TyNgibowNGguegDT+WMvFWiI",
      "include_colab_link": true
    },
    "kernelspec": {
      "name": "python3",
      "display_name": "Python 3"
    },
    "language_info": {
      "name": "python"
    },
    "accelerator": "GPU"
  },
  "cells": [
    {
      "cell_type": "markdown",
      "metadata": {
        "id": "view-in-github",
        "colab_type": "text"
      },
      "source": [
        "<a href=\"https://colab.research.google.com/github/MatteoGhizzi/MLPNS2021/blob/main/LEZ20_Autoencode_digits.ipynb\" target=\"_parent\"><img src=\"https://colab.research.google.com/assets/colab-badge.svg\" alt=\"Open In Colab\"/></a>"
      ]
    },
    {
      "cell_type": "code",
      "metadata": {
        "colab": {
          "base_uri": "https://localhost:8080/"
        },
        "id": "pR69bf4kZj4n",
        "outputId": "493ae7b5-8032-4603-fa37-6962eb9ebe62"
      },
      "source": [
        "import keras\n",
        "from keras.datasets import mnist\n",
        "from keras.models import Sequential\n",
        "from keras.layers import Dense#, Dropout, Flatten\n",
        "#from keras.layers import Conv2D, MaxPooling2D\n",
        "from keras import backend as K\n",
        "import glob\n",
        "import pylab as pl\n",
        "from PIL import Image\n",
        "\n",
        "%pylab inline"
      ],
      "execution_count": 1,
      "outputs": [
        {
          "output_type": "stream",
          "text": [
            "Populating the interactive namespace from numpy and matplotlib\n"
          ],
          "name": "stdout"
        }
      ]
    },
    {
      "cell_type": "markdown",
      "metadata": {
        "id": "9sv4eX3-5Dhl"
      },
      "source": [
        "go to runtime -> change runtime type -> GPU"
      ]
    },
    {
      "cell_type": "code",
      "metadata": {
        "colab": {
          "base_uri": "https://localhost:8080/",
          "height": 265
        },
        "id": "c4vtQPQQeVCi",
        "outputId": "3750d619-bcac-4d42-acf3-8dd89228df60"
      },
      "source": [
        "from keras.datasets import mnist\n",
        "(x_train, _), (x_test, _) = mnist.load_data()\n",
        "\n",
        "img_rows, img_cols = 28, 28\n",
        "pl.imshow(x_train[0])\n",
        "pl.axis('off')\n",
        "intialshape = x_train[0].shape\n",
        "ndim = np.prod(x_train[0].shape)\n",
        "x_train.shape"
      ],
      "execution_count": 2,
      "outputs": [
        {
          "output_type": "execute_result",
          "data": {
            "text/plain": [
              "(60000, 28, 28)"
            ]
          },
          "metadata": {
            "tags": []
          },
          "execution_count": 2
        },
        {
          "output_type": "display_data",
          "data": {
            "image/png": "[encoded data removed]",
            "text/plain": [
              "<Figure size 432x288 with 1 Axes>"
            ]
          },
          "metadata": {
            "tags": [],
            "needs_background": "light"
          }
        }
      ]
    },
    {
      "cell_type": "code",
      "metadata": {
        "colab": {
          "base_uri": "https://localhost:8080/"
        },
        "id": "5obnmAPbedp_",
        "outputId": "9ff65b55-73a4-4ae5-b6fa-041abcbdd08d"
      },
      "source": [
        "x_train.dtype, x_train.max(), x_train.min()"
      ],
      "execution_count": 3,
      "outputs": [
        {
          "output_type": "execute_result",
          "data": {
            "text/plain": [
              "(dtype('uint8'), 255, 0)"
            ]
          },
          "metadata": {
            "tags": []
          },
          "execution_count": 3
        }
      ]
    },
    {
      "cell_type": "markdown",
      "metadata": {
        "id": "ROlYaHsircVn"
      },
      "source": [
        "#importante:\n",
        "\n",
        "è necessario rinormalizzare le figure in modo da avere valori tra 0 e 1: è obbligatorio nei neural networks"
      ]
    },
    {
      "cell_type": "code",
      "metadata": {
        "colab": {
          "base_uri": "https://localhost:8080/"
        },
        "id": "jx8qYwhMev7v",
        "outputId": "55cddc35-7dcd-4f57-eaaa-6110d43e0a70"
      },
      "source": [
        "x_train = (x_train.astype(float) / 255).reshape(len(x_train), ndim)\n",
        "x_test = (x_test.astype(float) / 255).reshape(len(x_test), ndim)\n",
        "x_train.shape, x_test.shape"
      ],
      "execution_count": 4,
      "outputs": [
        {
          "output_type": "execute_result",
          "data": {
            "text/plain": [
              "((60000, 784), (10000, 784))"
            ]
          },
          "metadata": {
            "tags": []
          },
          "execution_count": 4
        }
      ]
    },
    {
      "cell_type": "code",
      "metadata": {
        "id": "F2VCtPSJZoaj"
      },
      "source": [
        "keras.models?"
      ],
      "execution_count": 5,
      "outputs": []
    },
    {
      "cell_type": "code",
      "metadata": {
        "colab": {
          "base_uri": "https://localhost:8080/",
          "height": 120
        },
        "id": "pPCQEfsVZoXQ",
        "outputId": "b08d46aa-9505-4f91-a3d0-20891af7f782"
      },
      "source": [
        "model_digits64 = Sequential()\n",
        "## encoder\n",
        "# input layer and the output size\n",
        "model_digits64.add(Dense( units= 128, activation='relu', input_dim = ndim))\n",
        "  #compression layer\n",
        "model_digits64.add(Dense(units = 64, activation='relu'))\n",
        "## deencoder\n",
        "#decompression layer, same size as in the encoder\n",
        "model_digits64.add(Dense(units = 128, activation='relu'))\n",
        "#output layer, same size as input\n",
        "model_digits64.add(Dense(ndim, activation='linear'))\n",
        "\n",
        "\n",
        "#alternative syntax\n",
        "\"\"\"\n",
        "encoded = Dense(encoding_dim, activation='relu')(input_img)\n",
        "# \"decoded\" is the lossy reconstruction of the input\n",
        "decoded = Dense(784, activation='sigmoid')(encoded)\n",
        "\n",
        "autoencoder = Model(input_img, decoded)\n",
        "\n",
        "encoder = Model(input_img, encoded)\n",
        "\n",
        "# create a placeholder for an encoded (32-dimensional) input\n",
        "encoded_input = Input(shape=(encoding_dim,))\n",
        "# retrieve the last layer of the autoencoder model\n",
        "decoder_layer = autoencoder.layers[-1]\n",
        "# create the decoder model\n",
        "decoder = Model(encoded_input, decoder_layer(encoded_input))\n",
        "\"\"\""
      ],
      "execution_count": 6,
      "outputs": [
        {
          "output_type": "execute_result",
          "data": {
            "application/vnd.google.colaboratory.intrinsic+json": {
              "type": "string"
            },
            "text/plain": [
              "'\\nencoded = Dense(encoding_dim, activation=\\'relu\\')(input_img)\\n# \"decoded\" is the lossy reconstruction of the input\\ndecoded = Dense(784, activation=\\'sigmoid\\')(encoded)\\n\\nautoencoder = Model(input_img, decoded)\\n\\nencoder = Model(input_img, encoded)\\n\\n# create a placeholder for an encoded (32-dimensional) input\\nencoded_input = Input(shape=(encoding_dim,))\\n# retrieve the last layer of the autoencoder model\\ndecoder_layer = autoencoder.layers[-1]\\n# create the decoder model\\ndecoder = Model(encoded_input, decoder_layer(encoded_input))\\n'"
            ]
          },
          "metadata": {
            "tags": []
          },
          "execution_count": 6
        }
      ]
    },
    {
      "cell_type": "code",
      "metadata": {
        "id": "urk3YxAL5L9U"
      },
      "source": [
        "# da dare ll'optimazer model.compile(optimizer =keras.optimizers.Adam(lr=0.05))\n"
      ],
      "execution_count": 7,
      "outputs": []
    },
    {
      "cell_type": "code",
      "metadata": {
        "id": "b1B5x2jEpZl8"
      },
      "source": [
        "model_digits64.compile(optimizer = keras.optimizers.Adam(lr=0.01), loss='mean_squared_error')\n",
        "#model_digits64.compile(optimizer=\"adadelta\", loss=\"mean_squared_error\")"
      ],
      "execution_count": 8,
      "outputs": []
    },
    {
      "cell_type": "code",
      "metadata": {
        "colab": {
          "base_uri": "https://localhost:8080/"
        },
        "id": "Ke6OW3tTZoR6",
        "outputId": "32ec6bb9-a4d2-48bd-826c-88c1f75f99e1"
      },
      "source": [
        "print(model_digits64.summary())"
      ],
      "execution_count": 9,
      "outputs": [
        {
          "output_type": "stream",
          "text": [
            "Model: \"sequential\"\n",
            "_________________________________________________________________\n",
            "Layer (type)                 Output Shape              Param #   \n",
            "=================================================================\n",
            "dense (Dense)                (None, 128)               100480    \n",
            "_________________________________________________________________\n",
            "dense_1 (Dense)              (None, 64)                8256      \n",
            "_________________________________________________________________\n",
            "dense_2 (Dense)              (None, 128)               8320      \n",
            "_________________________________________________________________\n",
            "dense_3 (Dense)              (None, 784)               101136    \n",
            "=================================================================\n",
            "Total params: 218,192\n",
            "Trainable params: 218,192\n",
            "Non-trainable params: 0\n",
            "_________________________________________________________________\n",
            "None\n"
          ],
          "name": "stdout"
        }
      ]
    },
    {
      "cell_type": "code",
      "metadata": {
        "colab": {
          "base_uri": "https://localhost:8080/"
        },
        "id": "G3stjNYeZoOv",
        "outputId": "defd2cfc-416c-4e52-b8ce-3d1cb910fe1f"
      },
      "source": [
        "history64 = model_digits64.fit(x_train, x_train, \n",
        "                               validation_data=(x_test, x_test),\n",
        "                               epochs=60, batch_size=100, verbose=1)"
      ],
      "execution_count": 10,
      "outputs": [
        {
          "output_type": "stream",
          "text": [
            "Epoch 1/60\n",
            "600/600 [==============================] - 3s 3ms/step - loss: 0.0413 - val_loss: 0.0263\n",
            "Epoch 2/60\n",
            "600/600 [==============================] - 1s 2ms/step - loss: 0.0261 - val_loss: 0.0242\n",
            "Epoch 3/60\n",
            "600/600 [==============================] - 1s 2ms/step - loss: 0.0244 - val_loss: 0.0234\n",
            "Epoch 4/60\n",
            "600/600 [==============================] - 1s 2ms/step - loss: 0.0237 - val_loss: 0.0227\n",
            "Epoch 5/60\n",
            "600/600 [==============================] - 1s 2ms/step - loss: 0.0231 - val_loss: 0.0225\n",
            "Epoch 6/60\n",
            "600/600 [==============================] - 1s 2ms/step - loss: 0.0229 - val_loss: 0.0223\n",
            "Epoch 7/60\n",
            "600/600 [==============================] - 1s 2ms/step - loss: 0.0225 - val_loss: 0.0218\n",
            "Epoch 8/60\n",
            "600/600 [==============================] - 1s 2ms/step - loss: 0.0225 - val_loss: 0.0228\n",
            "Epoch 9/60\n",
            "600/600 [==============================] - 1s 2ms/step - loss: 0.0224 - val_loss: 0.0216\n",
            "Epoch 10/60\n",
            "600/600 [==============================] - 1s 2ms/step - loss: 0.0223 - val_loss: 0.0221\n",
            "Epoch 11/60\n",
            "600/600 [==============================] - 1s 2ms/step - loss: 0.0222 - val_loss: 0.0217\n",
            "Epoch 12/60\n",
            "600/600 [==============================] - 1s 2ms/step - loss: 0.0221 - val_loss: 0.0217\n",
            "Epoch 13/60\n",
            "600/600 [==============================] - 1s 2ms/step - loss: 0.0220 - val_loss: 0.0217\n",
            "Epoch 14/60\n",
            "600/600 [==============================] - 1s 2ms/step - loss: 0.0219 - val_loss: 0.0218\n",
            "Epoch 15/60\n",
            "600/600 [==============================] - 1s 2ms/step - loss: 0.0220 - val_loss: 0.0222\n",
            "Epoch 16/60\n",
            "600/600 [==============================] - 1s 2ms/step - loss: 0.0220 - val_loss: 0.0215\n",
            "Epoch 17/60\n",
            "600/600 [==============================] - 1s 2ms/step - loss: 0.0220 - val_loss: 0.0216\n",
            "Epoch 18/60\n",
            "600/600 [==============================] - 1s 2ms/step - loss: 0.0220 - val_loss: 0.0212\n",
            "Epoch 19/60\n",
            "600/600 [==============================] - 1s 2ms/step - loss: 0.0219 - val_loss: 0.0219\n",
            "Epoch 20/60\n",
            "600/600 [==============================] - 1s 2ms/step - loss: 0.0219 - val_loss: 0.0220\n",
            "Epoch 21/60\n",
            "600/600 [==============================] - 1s 2ms/step - loss: 0.0221 - val_loss: 0.0219\n",
            "Epoch 22/60\n",
            "600/600 [==============================] - 1s 2ms/step - loss: 0.0219 - val_loss: 0.0217\n",
            "Epoch 23/60\n",
            "600/600 [==============================] - 1s 2ms/step - loss: 0.0219 - val_loss: 0.0216\n",
            "Epoch 24/60\n",
            "600/600 [==============================] - 1s 2ms/step - loss: 0.0219 - val_loss: 0.0217\n",
            "Epoch 25/60\n",
            "600/600 [==============================] - 1s 2ms/step - loss: 0.0220 - val_loss: 0.0218\n",
            "Epoch 26/60\n",
            "600/600 [==============================] - 1s 2ms/step - loss: 0.0219 - val_loss: 0.0216\n",
            "Epoch 27/60\n",
            "600/600 [==============================] - 1s 2ms/step - loss: 0.0219 - val_loss: 0.0218\n",
            "Epoch 28/60\n",
            "600/600 [==============================] - 1s 2ms/step - loss: 0.0219 - val_loss: 0.0217\n",
            "Epoch 29/60\n",
            "600/600 [==============================] - 1s 2ms/step - loss: 0.0219 - val_loss: 0.0220\n",
            "Epoch 30/60\n",
            "600/600 [==============================] - 1s 2ms/step - loss: 0.0220 - val_loss: 0.0218\n",
            "Epoch 31/60\n",
            "600/600 [==============================] - 1s 2ms/step - loss: 0.0218 - val_loss: 0.0217\n",
            "Epoch 32/60\n",
            "600/600 [==============================] - 1s 2ms/step - loss: 0.0219 - val_loss: 0.0214\n",
            "Epoch 33/60\n",
            "600/600 [==============================] - 1s 2ms/step - loss: 0.0219 - val_loss: 0.0217\n",
            "Epoch 34/60\n",
            "600/600 [==============================] - 1s 2ms/step - loss: 0.0219 - val_loss: 0.0216\n",
            "Epoch 35/60\n",
            "600/600 [==============================] - 1s 2ms/step - loss: 0.0220 - val_loss: 0.0218\n",
            "Epoch 36/60\n",
            "600/600 [==============================] - 1s 2ms/step - loss: 0.0219 - val_loss: 0.0217\n",
            "Epoch 37/60\n",
            "600/600 [==============================] - 1s 2ms/step - loss: 0.0219 - val_loss: 0.0215\n",
            "Epoch 38/60\n",
            "600/600 [==============================] - 1s 2ms/step - loss: 0.0219 - val_loss: 0.0214\n",
            "Epoch 39/60\n",
            "600/600 [==============================] - 1s 2ms/step - loss: 0.0218 - val_loss: 0.0215\n",
            "Epoch 40/60\n",
            "600/600 [==============================] - 1s 2ms/step - loss: 0.0219 - val_loss: 0.0216\n",
            "Epoch 41/60\n",
            "600/600 [==============================] - 1s 2ms/step - loss: 0.0218 - val_loss: 0.0218\n",
            "Epoch 42/60\n",
            "600/600 [==============================] - 1s 2ms/step - loss: 0.0217 - val_loss: 0.0216\n",
            "Epoch 43/60\n",
            "600/600 [==============================] - 1s 2ms/step - loss: 0.0219 - val_loss: 0.0218\n",
            "Epoch 44/60\n",
            "600/600 [==============================] - 1s 2ms/step - loss: 0.0217 - val_loss: 0.0215\n",
            "Epoch 45/60\n",
            "600/600 [==============================] - 1s 2ms/step - loss: 0.0218 - val_loss: 0.0215\n",
            "Epoch 46/60\n",
            "600/600 [==============================] - 1s 2ms/step - loss: 0.0218 - val_loss: 0.0215\n",
            "Epoch 47/60\n",
            "600/600 [==============================] - 1s 2ms/step - loss: 0.0218 - val_loss: 0.0216\n",
            "Epoch 48/60\n",
            "600/600 [==============================] - 1s 2ms/step - loss: 0.0218 - val_loss: 0.0214\n",
            "Epoch 49/60\n",
            "600/600 [==============================] - 1s 2ms/step - loss: 0.0219 - val_loss: 0.0217\n",
            "Epoch 50/60\n",
            "600/600 [==============================] - 1s 2ms/step - loss: 0.0218 - val_loss: 0.0218\n",
            "Epoch 51/60\n",
            "600/600 [==============================] - 1s 2ms/step - loss: 0.0218 - val_loss: 0.0216\n",
            "Epoch 52/60\n",
            "600/600 [==============================] - 1s 2ms/step - loss: 0.0218 - val_loss: 0.0216\n",
            "Epoch 53/60\n",
            "600/600 [==============================] - 1s 2ms/step - loss: 0.0219 - val_loss: 0.0214\n",
            "Epoch 54/60\n",
            "600/600 [==============================] - 1s 2ms/step - loss: 0.0217 - val_loss: 0.0213\n",
            "Epoch 55/60\n",
            "600/600 [==============================] - 1s 2ms/step - loss: 0.0217 - val_loss: 0.0217\n",
            "Epoch 56/60\n",
            "600/600 [==============================] - 1s 2ms/step - loss: 0.0218 - val_loss: 0.0215\n",
            "Epoch 57/60\n",
            "600/600 [==============================] - 1s 2ms/step - loss: 0.0218 - val_loss: 0.0213\n",
            "Epoch 58/60\n",
            "600/600 [==============================] - 1s 2ms/step - loss: 0.0218 - val_loss: 0.0218\n",
            "Epoch 59/60\n",
            "600/600 [==============================] - 1s 2ms/step - loss: 0.0219 - val_loss: 0.0215\n",
            "Epoch 60/60\n",
            "600/600 [==============================] - 1s 2ms/step - loss: 0.0218 - val_loss: 0.0215\n"
          ],
          "name": "stdout"
        }
      ]
    },
    {
      "cell_type": "code",
      "metadata": {
        "colab": {
          "base_uri": "https://localhost:8080/",
          "height": 283
        },
        "id": "bEV2ZfrqZoLy",
        "outputId": "917132b2-4e0c-4d3e-ac5e-d183ec29a90a"
      },
      "source": [
        "pl.plot(np.array(history64.history['loss']))\n",
        "pl.ylabel('loss')\n",
        "pl.xlabel('iteration')\n",
        "pl.yscale('log')\n",
        "pl.xscale('log')"
      ],
      "execution_count": 11,
      "outputs": [
        {
          "output_type": "display_data",
          "data": {
            "image/png": "[encoded data removed]",
            "text/plain": [
              "<Figure size 432x288 with 1 Axes>"
            ]
          },
          "metadata": {
            "tags": [],
            "needs_background": "light"
          }
        }
      ]
    },
    {
      "cell_type": "code",
      "metadata": {
        "id": "X4AEt4JUZoI7"
      },
      "source": [
        "model_digits64.compile?"
      ],
      "execution_count": 12,
      "outputs": []
    },
    {
      "cell_type": "code",
      "metadata": {
        "id": "tBVzuPvkZoGJ"
      },
      "source": [
        "output_image64 = model_digits64.predict(x_test)"
      ],
      "execution_count": 13,
      "outputs": []
    },
    {
      "cell_type": "code",
      "metadata": {
        "id": "P0kXPowFZoDO"
      },
      "source": [
        "def compareinout(i, outim, testimg, initialshape=(28,28)):\n",
        "  fig = pl.figure(figsize(10,5))\n",
        "  ax = fig.add_subplot(121) \n",
        "  ax.imshow(testimg[i].reshape(initialshape) , cmap=\"bone\")\n",
        "  ax.get_xaxis().set_visible(False)\n",
        "  ax.get_yaxis().set_visible(False)\n",
        "  ax = fig.add_subplot(122) \n",
        "  ax.imshow(outim[i].reshape(initialshape) , cmap=\"bone\")\n",
        "  ax.get_xaxis().set_visible(False)\n",
        "  ax.get_yaxis().set_visible(False)"
      ],
      "execution_count": 14,
      "outputs": []
    },
    {
      "cell_type": "code",
      "metadata": {
        "colab": {
          "base_uri": "https://localhost:8080/",
          "height": 1000
        },
        "id": "iPV0ENkY8YAR",
        "outputId": "5a7ef90a-6188-4e6c-a671-b4aabe3e6679"
      },
      "source": [
        "for i in range(10):\n",
        "  compareinout(i, output_image64, x_test)"
      ],
      "execution_count": 15,
      "outputs": [
        {
          "output_type": "display_data",
          "data": {
            "image/png": "[encoded data removed]",
            "text/plain": [
              "<Figure size 720x360 with 2 Axes>"
            ]
          },
          "metadata": {
            "tags": [],
            "needs_background": "light"
          }
        },
        {
          "output_type": "display_data",
          "data": {
            "image/png": "[encoded data removed]",
            "text/plain": [
              "<Figure size 720x360 with 2 Axes>"
            ]
          },
          "metadata": {
            "tags": [],
            "needs_background": "light"
          }
        },
        {
          "output_type": "display_data",
          "data": {
            "image/png": "[encoded data removed]",
            "text/plain": [
              "<Figure size 720x360 with 2 Axes>"
            ]
          },
          "metadata": {
            "tags": [],
            "needs_background": "light"
          }
        },
        {
          "output_type": "display_data",
          "data": {
            "image/png": "[encoded data removed]",
            "text/plain": [
              "<Figure size 720x360 with 2 Axes>"
            ]
          },
          "metadata": {
            "tags": [],
            "needs_background": "light"
          }
        },
        {
          "output_type": "display_data",
          "data": {
            "image/png": "[encoded data removed]",
            "text/plain": [
              "<Figure size 720x360 with 2 Axes>"
            ]
          },
          "metadata": {
            "tags": [],
            "needs_background": "light"
          }
        },
        {
          "output_type": "display_data",
          "data": {
            "image/png": "[encoded data removed]",
            "text/plain": [
              "<Figure size 720x360 with 2 Axes>"
            ]
          },
          "metadata": {
            "tags": [],
            "needs_background": "light"
          }
        },
        {
          "output_type": "display_data",
          "data": {
            "image/png": "[encoded data removed]",
            "text/plain": [
              "<Figure size 720x360 with 2 Axes>"
            ]
          },
          "metadata": {
            "tags": [],
            "needs_background": "light"
          }
        },
        {
          "output_type": "display_data",
          "data": {
            "image/png": "[encoded data removed]",
            "text/plain": [
              "<Figure size 720x360 with 2 Axes>"
            ]
          },
          "metadata": {
            "tags": [],
            "needs_background": "light"
          }
        },
        {
          "output_type": "display_data",
          "data": {
            "image/png": "[encoded data removed]",
            "text/plain": [
              "<Figure size 720x360 with 2 Axes>"
            ]
          },
          "metadata": {
            "tags": [],
            "needs_background": "light"
          }
        },
        {
          "output_type": "display_data",
          "data": {
            "image/png": "[encoded data removed]",
            "text/plain": [
              "<Figure size 720x360 with 2 Axes>"
            ]
          },
          "metadata": {
            "tags": [],
            "needs_background": "light"
          }
        }
      ]
    },
    {
      "cell_type": "markdown",
      "metadata": {
        "id": "Vx1IJi3K8qcr"
      },
      "source": [
        "il risultato non è soddisfacente e le figure sono troppo dettagliate.\n",
        "\n",
        "Una possibile soluzione al problema potrebbe essere modificare l'ultima funzione di attivazione, proviamo con una sigmoide"
      ]
    },
    {
      "cell_type": "code",
      "metadata": {
        "id": "ub-UQU5w8q29"
      },
      "source": [
        "# choose the optimizer and loss appropriately!\n",
        "model_digits64_sig = Sequential()\n",
        "## encoder\n",
        "# input layer and the output size\n",
        "model_digits64_sig.add(Dense(128, activation='relu', input_dim=ndim))\n",
        "#compression layer\n",
        "model_digits64_sig.add(Dense(64, activation='relu'))\n",
        "## deencoder\n",
        "#decompression layer, same size as in the encoder\n",
        "model_digits64_sig.add(Dense(128, activation='relu'))\n",
        "#output layer, same size as input\n",
        "model_digits64_sig.add(Dense(ndim, activation='sigmoid'))\n",
        "model_digits64_sig.compile(optimizer= keras.optimizers.Adam(lr=0.005), loss=\"mean_squared_error\") #binary_cross_entropy)"
      ],
      "execution_count": 16,
      "outputs": []
    },
    {
      "cell_type": "code",
      "metadata": {
        "colab": {
          "base_uri": "https://localhost:8080/"
        },
        "id": "Ws8WilFd9Ixx",
        "outputId": "dc9f09de-9b61-47c4-f841-b99de50ce008"
      },
      "source": [
        "history64_sig = model_digits64_sig.fit(x_train, x_train, \n",
        "                                       validation_data=(x_test, x_test), \n",
        "                                       epochs=100, batch_size=100, verbose=1)"
      ],
      "execution_count": 17,
      "outputs": [
        {
          "output_type": "stream",
          "text": [
            "Epoch 1/100\n",
            "600/600 [==============================] - 2s 3ms/step - loss: 0.0446 - val_loss: 0.0116\n",
            "Epoch 2/100\n",
            "600/600 [==============================] - 1s 2ms/step - loss: 0.0110 - val_loss: 0.0085\n",
            "Epoch 3/100\n",
            "600/600 [==============================] - 1s 2ms/step - loss: 0.0085 - val_loss: 0.0075\n",
            "Epoch 4/100\n",
            "600/600 [==============================] - 1s 2ms/step - loss: 0.0075 - val_loss: 0.0069\n",
            "Epoch 5/100\n",
            "600/600 [==============================] - 1s 2ms/step - loss: 0.0070 - val_loss: 0.0065\n",
            "Epoch 6/100\n",
            "600/600 [==============================] - 1s 2ms/step - loss: 0.0067 - val_loss: 0.0064\n",
            "Epoch 7/100\n",
            "600/600 [==============================] - 1s 2ms/step - loss: 0.0065 - val_loss: 0.0062\n",
            "Epoch 8/100\n",
            "600/600 [==============================] - 1s 2ms/step - loss: 0.0063 - val_loss: 0.0059\n",
            "Epoch 9/100\n",
            "600/600 [==============================] - 1s 2ms/step - loss: 0.0061 - val_loss: 0.0059\n",
            "Epoch 10/100\n",
            "600/600 [==============================] - 1s 2ms/step - loss: 0.0061 - val_loss: 0.0059\n",
            "Epoch 11/100\n",
            "600/600 [==============================] - 1s 2ms/step - loss: 0.0060 - val_loss: 0.0057\n",
            "Epoch 12/100\n",
            "600/600 [==============================] - 1s 2ms/step - loss: 0.0059 - val_loss: 0.0058\n",
            "Epoch 13/100\n",
            "600/600 [==============================] - 1s 2ms/step - loss: 0.0058 - val_loss: 0.0056\n",
            "Epoch 14/100\n",
            "600/600 [==============================] - 1s 2ms/step - loss: 0.0058 - val_loss: 0.0056\n",
            "Epoch 15/100\n",
            "600/600 [==============================] - 1s 2ms/step - loss: 0.0057 - val_loss: 0.0055\n",
            "Epoch 16/100\n",
            "600/600 [==============================] - 1s 2ms/step - loss: 0.0057 - val_loss: 0.0055\n",
            "Epoch 17/100\n",
            "600/600 [==============================] - 1s 2ms/step - loss: 0.0056 - val_loss: 0.0054\n",
            "Epoch 18/100\n",
            "600/600 [==============================] - 1s 2ms/step - loss: 0.0055 - val_loss: 0.0053\n",
            "Epoch 19/100\n",
            "600/600 [==============================] - 1s 2ms/step - loss: 0.0055 - val_loss: 0.0055\n",
            "Epoch 20/100\n",
            "600/600 [==============================] - 1s 2ms/step - loss: 0.0055 - val_loss: 0.0055\n",
            "Epoch 21/100\n",
            "600/600 [==============================] - 1s 2ms/step - loss: 0.0054 - val_loss: 0.0053\n",
            "Epoch 22/100\n",
            "600/600 [==============================] - 1s 2ms/step - loss: 0.0054 - val_loss: 0.0053\n",
            "Epoch 23/100\n",
            "600/600 [==============================] - 1s 2ms/step - loss: 0.0053 - val_loss: 0.0054\n",
            "Epoch 24/100\n",
            "600/600 [==============================] - 1s 2ms/step - loss: 0.0053 - val_loss: 0.0053\n",
            "Epoch 25/100\n",
            "600/600 [==============================] - 1s 2ms/step - loss: 0.0053 - val_loss: 0.0051\n",
            "Epoch 26/100\n",
            "600/600 [==============================] - 1s 2ms/step - loss: 0.0052 - val_loss: 0.0051\n",
            "Epoch 27/100\n",
            "600/600 [==============================] - 1s 2ms/step - loss: 0.0052 - val_loss: 0.0053\n",
            "Epoch 28/100\n",
            "600/600 [==============================] - 1s 2ms/step - loss: 0.0051 - val_loss: 0.0051\n",
            "Epoch 29/100\n",
            "600/600 [==============================] - 1s 2ms/step - loss: 0.0052 - val_loss: 0.0050\n",
            "Epoch 30/100\n",
            "600/600 [==============================] - 1s 2ms/step - loss: 0.0051 - val_loss: 0.0049\n",
            "Epoch 31/100\n",
            "600/600 [==============================] - 1s 2ms/step - loss: 0.0051 - val_loss: 0.0052\n",
            "Epoch 32/100\n",
            "600/600 [==============================] - 1s 2ms/step - loss: 0.0051 - val_loss: 0.0050\n",
            "Epoch 33/100\n",
            "600/600 [==============================] - 1s 2ms/step - loss: 0.0051 - val_loss: 0.0052\n",
            "Epoch 34/100\n",
            "600/600 [==============================] - 1s 2ms/step - loss: 0.0051 - val_loss: 0.0052\n",
            "Epoch 35/100\n",
            "600/600 [==============================] - 1s 2ms/step - loss: 0.0050 - val_loss: 0.0050\n",
            "Epoch 36/100\n",
            "600/600 [==============================] - 1s 2ms/step - loss: 0.0050 - val_loss: 0.0050\n",
            "Epoch 37/100\n",
            "600/600 [==============================] - 1s 2ms/step - loss: 0.0050 - val_loss: 0.0052\n",
            "Epoch 38/100\n",
            "600/600 [==============================] - 1s 2ms/step - loss: 0.0050 - val_loss: 0.0050\n",
            "Epoch 39/100\n",
            "600/600 [==============================] - 1s 2ms/step - loss: 0.0050 - val_loss: 0.0049\n",
            "Epoch 40/100\n",
            "600/600 [==============================] - 1s 2ms/step - loss: 0.0050 - val_loss: 0.0049\n",
            "Epoch 41/100\n",
            "600/600 [==============================] - 1s 2ms/step - loss: 0.0050 - val_loss: 0.0050\n",
            "Epoch 42/100\n",
            "600/600 [==============================] - 1s 2ms/step - loss: 0.0050 - val_loss: 0.0049\n",
            "Epoch 43/100\n",
            "600/600 [==============================] - 1s 2ms/step - loss: 0.0049 - val_loss: 0.0053\n",
            "Epoch 44/100\n",
            "600/600 [==============================] - 1s 2ms/step - loss: 0.0050 - val_loss: 0.0052\n",
            "Epoch 45/100\n",
            "600/600 [==============================] - 1s 2ms/step - loss: 0.0049 - val_loss: 0.0048\n",
            "Epoch 46/100\n",
            "600/600 [==============================] - 1s 2ms/step - loss: 0.0049 - val_loss: 0.0047\n",
            "Epoch 47/100\n",
            "600/600 [==============================] - 1s 2ms/step - loss: 0.0049 - val_loss: 0.0048\n",
            "Epoch 48/100\n",
            "600/600 [==============================] - 1s 2ms/step - loss: 0.0049 - val_loss: 0.0047\n",
            "Epoch 49/100\n",
            "600/600 [==============================] - 1s 2ms/step - loss: 0.0049 - val_loss: 0.0048\n",
            "Epoch 50/100\n",
            "600/600 [==============================] - 1s 2ms/step - loss: 0.0049 - val_loss: 0.0049\n",
            "Epoch 51/100\n",
            "600/600 [==============================] - 1s 2ms/step - loss: 0.0049 - val_loss: 0.0050\n",
            "Epoch 52/100\n",
            "600/600 [==============================] - 1s 2ms/step - loss: 0.0049 - val_loss: 0.0047\n",
            "Epoch 53/100\n",
            "600/600 [==============================] - 1s 2ms/step - loss: 0.0049 - val_loss: 0.0050\n",
            "Epoch 54/100\n",
            "600/600 [==============================] - 1s 2ms/step - loss: 0.0049 - val_loss: 0.0048\n",
            "Epoch 55/100\n",
            "600/600 [==============================] - 1s 2ms/step - loss: 0.0048 - val_loss: 0.0049\n",
            "Epoch 56/100\n",
            "600/600 [==============================] - 1s 2ms/step - loss: 0.0049 - val_loss: 0.0048\n",
            "Epoch 57/100\n",
            "600/600 [==============================] - 1s 2ms/step - loss: 0.0049 - val_loss: 0.0046\n",
            "Epoch 58/100\n",
            "600/600 [==============================] - 1s 2ms/step - loss: 0.0048 - val_loss: 0.0048\n",
            "Epoch 59/100\n",
            "600/600 [==============================] - 1s 2ms/step - loss: 0.0049 - val_loss: 0.0049\n",
            "Epoch 60/100\n",
            "600/600 [==============================] - 1s 2ms/step - loss: 0.0048 - val_loss: 0.0051\n",
            "Epoch 61/100\n",
            "600/600 [==============================] - 1s 2ms/step - loss: 0.0048 - val_loss: 0.0047\n",
            "Epoch 62/100\n",
            "600/600 [==============================] - 1s 2ms/step - loss: 0.0048 - val_loss: 0.0049\n",
            "Epoch 63/100\n",
            "600/600 [==============================] - 1s 2ms/step - loss: 0.0048 - val_loss: 0.0050\n",
            "Epoch 64/100\n",
            "600/600 [==============================] - 1s 2ms/step - loss: 0.0048 - val_loss: 0.0048\n",
            "Epoch 65/100\n",
            "600/600 [==============================] - 1s 2ms/step - loss: 0.0048 - val_loss: 0.0048\n",
            "Epoch 66/100\n",
            "600/600 [==============================] - 1s 2ms/step - loss: 0.0048 - val_loss: 0.0047\n",
            "Epoch 67/100\n",
            "600/600 [==============================] - 1s 2ms/step - loss: 0.0048 - val_loss: 0.0048\n",
            "Epoch 68/100\n",
            "600/600 [==============================] - 1s 2ms/step - loss: 0.0048 - val_loss: 0.0049\n",
            "Epoch 69/100\n",
            "600/600 [==============================] - 1s 2ms/step - loss: 0.0048 - val_loss: 0.0047\n",
            "Epoch 70/100\n",
            "600/600 [==============================] - 1s 2ms/step - loss: 0.0048 - val_loss: 0.0050\n",
            "Epoch 71/100\n",
            "600/600 [==============================] - 1s 2ms/step - loss: 0.0048 - val_loss: 0.0049\n",
            "Epoch 72/100\n",
            "600/600 [==============================] - 1s 2ms/step - loss: 0.0048 - val_loss: 0.0046\n",
            "Epoch 73/100\n",
            "600/600 [==============================] - 1s 2ms/step - loss: 0.0048 - val_loss: 0.0049\n",
            "Epoch 74/100\n",
            "600/600 [==============================] - 1s 2ms/step - loss: 0.0048 - val_loss: 0.0048\n",
            "Epoch 75/100\n",
            "600/600 [==============================] - 1s 2ms/step - loss: 0.0048 - val_loss: 0.0048\n",
            "Epoch 76/100\n",
            "600/600 [==============================] - 1s 2ms/step - loss: 0.0047 - val_loss: 0.0050\n",
            "Epoch 77/100\n",
            "600/600 [==============================] - 1s 2ms/step - loss: 0.0047 - val_loss: 0.0046\n",
            "Epoch 78/100\n",
            "600/600 [==============================] - 1s 2ms/step - loss: 0.0047 - val_loss: 0.0047\n",
            "Epoch 79/100\n",
            "600/600 [==============================] - 1s 2ms/step - loss: 0.0047 - val_loss: 0.0046\n",
            "Epoch 80/100\n",
            "600/600 [==============================] - 1s 2ms/step - loss: 0.0047 - val_loss: 0.0048\n",
            "Epoch 81/100\n",
            "600/600 [==============================] - 1s 2ms/step - loss: 0.0047 - val_loss: 0.0047\n",
            "Epoch 82/100\n",
            "600/600 [==============================] - 1s 2ms/step - loss: 0.0047 - val_loss: 0.0048\n",
            "Epoch 83/100\n",
            "600/600 [==============================] - 1s 2ms/step - loss: 0.0047 - val_loss: 0.0046\n",
            "Epoch 84/100\n",
            "600/600 [==============================] - 1s 2ms/step - loss: 0.0047 - val_loss: 0.0046\n",
            "Epoch 85/100\n",
            "600/600 [==============================] - 1s 2ms/step - loss: 0.0047 - val_loss: 0.0047\n",
            "Epoch 86/100\n",
            "600/600 [==============================] - 1s 2ms/step - loss: 0.0046 - val_loss: 0.0048\n",
            "Epoch 87/100\n",
            "600/600 [==============================] - 1s 2ms/step - loss: 0.0047 - val_loss: 0.0047\n",
            "Epoch 88/100\n",
            "600/600 [==============================] - 1s 2ms/step - loss: 0.0047 - val_loss: 0.0049\n",
            "Epoch 89/100\n",
            "600/600 [==============================] - 1s 2ms/step - loss: 0.0048 - val_loss: 0.0045\n",
            "Epoch 90/100\n",
            "600/600 [==============================] - 1s 2ms/step - loss: 0.0047 - val_loss: 0.0047\n",
            "Epoch 91/100\n",
            "600/600 [==============================] - 1s 2ms/step - loss: 0.0047 - val_loss: 0.0047\n",
            "Epoch 92/100\n",
            "600/600 [==============================] - 1s 2ms/step - loss: 0.0047 - val_loss: 0.0048\n",
            "Epoch 93/100\n",
            "600/600 [==============================] - 1s 2ms/step - loss: 0.0047 - val_loss: 0.0046\n",
            "Epoch 94/100\n",
            "600/600 [==============================] - 1s 2ms/step - loss: 0.0047 - val_loss: 0.0046\n",
            "Epoch 95/100\n",
            "600/600 [==============================] - 1s 2ms/step - loss: 0.0047 - val_loss: 0.0045\n",
            "Epoch 96/100\n",
            "600/600 [==============================] - 1s 2ms/step - loss: 0.0046 - val_loss: 0.0048\n",
            "Epoch 97/100\n",
            "600/600 [==============================] - 1s 2ms/step - loss: 0.0047 - val_loss: 0.0045\n",
            "Epoch 98/100\n",
            "600/600 [==============================] - 1s 2ms/step - loss: 0.0046 - val_loss: 0.0048\n",
            "Epoch 99/100\n",
            "600/600 [==============================] - 1s 2ms/step - loss: 0.0046 - val_loss: 0.0047\n",
            "Epoch 100/100\n",
            "600/600 [==============================] - 1s 2ms/step - loss: 0.0046 - val_loss: 0.0046\n"
          ],
          "name": "stdout"
        }
      ]
    },
    {
      "cell_type": "code",
      "metadata": {
        "colab": {
          "base_uri": "https://localhost:8080/",
          "height": 351
        },
        "id": "zQP7twkn9NYB",
        "outputId": "64ddf780-366b-40a4-b38f-f58409b7ae29"
      },
      "source": [
        "pl.plot(np.array(history64_sig.history['loss']))\n",
        "pl.ylabel('loss')\n",
        "pl.xlabel('iteration')\n",
        "#pl.yscale('log')\n",
        "#pl.xscale('log')"
      ],
      "execution_count": 18,
      "outputs": [
        {
          "output_type": "execute_result",
          "data": {
            "text/plain": [
              "Text(0.5, 0, 'iteration')"
            ]
          },
          "metadata": {
            "tags": []
          },
          "execution_count": 18
        },
        {
          "output_type": "display_data",
          "data": {
            "image/png": "[encoded data removed]",
            "text/plain": [
              "<Figure size 720x360 with 1 Axes>"
            ]
          },
          "metadata": {
            "tags": [],
            "needs_background": "light"
          }
        }
      ]
    },
    {
      "cell_type": "code",
      "metadata": {
        "colab": {
          "base_uri": "https://localhost:8080/",
          "height": 1000
        },
        "id": "8pqkIHXF9ViW",
        "outputId": "e31982a3-ec96-47e6-b2fc-177b74dc903a"
      },
      "source": [
        "output_image64_sig = model_digits64_sig.predict(x_test)\n",
        "for i in range(10):\n",
        "  compareinout(i, output_image64_sig, x_test)"
      ],
      "execution_count": 19,
      "outputs": [
        {
          "output_type": "display_data",
          "data": {
            "image/png": "[encoded data removed]",
            "text/plain": [
              "<Figure size 720x360 with 2 Axes>"
            ]
          },
          "metadata": {
            "tags": [],
            "needs_background": "light"
          }
        },
        {
          "output_type": "display_data",
          "data": {
            "image/png": "[encoded data removed]",
            "text/plain": [
              "<Figure size 720x360 with 2 Axes>"
            ]
          },
          "metadata": {
            "tags": [],
            "needs_background": "light"
          }
        },
        {
          "output_type": "display_data",
          "data": {
            "image/png": "[encoded data removed]",
            "text/plain": [
              "<Figure size 720x360 with 2 Axes>"
            ]
          },
          "metadata": {
            "tags": [],
            "needs_background": "light"
          }
        },
        {
          "output_type": "display_data",
          "data": {
            "image/png": "[encoded data removed]",
            "text/plain": [
              "<Figure size 720x360 with 2 Axes>"
            ]
          },
          "metadata": {
            "tags": [],
            "needs_background": "light"
          }
        },
        {
          "output_type": "display_data",
          "data": {
            "image/png": "[encoded data removed]",
            "text/plain": [
              "<Figure size 720x360 with 2 Axes>"
            ]
          },
          "metadata": {
            "tags": [],
            "needs_background": "light"
          }
        },
        {
          "output_type": "display_data",
          "data": {
            "image/png": "[encoded data removed]",
            "text/plain": [
              "<Figure size 720x360 with 2 Axes>"
            ]
          },
          "metadata": {
            "tags": [],
            "needs_background": "light"
          }
        },
        {
          "output_type": "display_data",
          "data": {
            "image/png": "[encoded data removed]",
            "text/plain": [
              "<Figure size 720x360 with 2 Axes>"
            ]
          },
          "metadata": {
            "tags": [],
            "needs_background": "light"
          }
        },
        {
          "output_type": "display_data",
          "data": {
            "image/png": "[encoded data removed]",
            "text/plain": [
              "<Figure size 720x360 with 2 Axes>"
            ]
          },
          "metadata": {
            "tags": [],
            "needs_background": "light"
          }
        },
        {
          "output_type": "display_data",
          "data": {
            "image/png": "[encoded data removed]",
            "text/plain": [
              "<Figure size 720x360 with 2 Axes>"
            ]
          },
          "metadata": {
            "tags": [],
            "needs_background": "light"
          }
        },
        {
          "output_type": "display_data",
          "data": {
            "image/png": "[encoded data removed]",
            "text/plain": [
              "<Figure size 720x360 with 2 Axes>"
            ]
          },
          "metadata": {
            "tags": [],
            "needs_background": "light"
          }
        }
      ]
    },
    {
      "cell_type": "markdown",
      "metadata": {
        "id": "aR0YV3E6AZQD"
      },
      "source": [
        "scegliamo una loss function più adeguata ad un non-binary classification"
      ]
    },
    {
      "cell_type": "code",
      "metadata": {
        "id": "XbU51IrUBH9c"
      },
      "source": [
        "# sigmoid and binary cross entropy loss\n",
        "model_digits64_bce = model_digits64_sig"
      ],
      "execution_count": 20,
      "outputs": []
    },
    {
      "cell_type": "code",
      "metadata": {
        "id": "mFFiBPeCAvct"
      },
      "source": [
        "model_digits64_bce.compile(optimizer= \"adadelta\", loss=\"binary_crossentropy\") #binary_cross_entropy)"
      ],
      "execution_count": 21,
      "outputs": []
    },
    {
      "cell_type": "code",
      "metadata": {
        "colab": {
          "base_uri": "https://localhost:8080/"
        },
        "id": "I6ijgOhfA75d",
        "outputId": "c123295f-fdd8-41e3-9fdd-71bc75c81802"
      },
      "source": [
        "history64_bce = model_digits64_bce.fit(x_train, x_train, \n",
        "                                       validation_data=(x_test, x_test), \n",
        "                                       epochs=50, batch_size=100, verbose=1)"
      ],
      "execution_count": 22,
      "outputs": [
        {
          "output_type": "stream",
          "text": [
            "Epoch 1/50\n",
            "600/600 [==============================] - 2s 3ms/step - loss: 0.0768 - val_loss: 0.0756\n",
            "Epoch 2/50\n",
            "600/600 [==============================] - 1s 2ms/step - loss: 0.0757 - val_loss: 0.0754\n",
            "Epoch 3/50\n",
            "600/600 [==============================] - 1s 2ms/step - loss: 0.0756 - val_loss: 0.0753\n",
            "Epoch 4/50\n",
            "600/600 [==============================] - 1s 2ms/step - loss: 0.0758 - val_loss: 0.0752\n",
            "Epoch 5/50\n",
            "600/600 [==============================] - 1s 2ms/step - loss: 0.0756 - val_loss: 0.0752\n",
            "Epoch 6/50\n",
            "600/600 [==============================] - 1s 2ms/step - loss: 0.0755 - val_loss: 0.0751\n",
            "Epoch 7/50\n",
            "600/600 [==============================] - 1s 2ms/step - loss: 0.0754 - val_loss: 0.0751\n",
            "Epoch 8/50\n",
            "600/600 [==============================] - 1s 2ms/step - loss: 0.0753 - val_loss: 0.0751\n",
            "Epoch 9/50\n",
            "600/600 [==============================] - 1s 2ms/step - loss: 0.0754 - val_loss: 0.0750\n",
            "Epoch 10/50\n",
            "600/600 [==============================] - 1s 2ms/step - loss: 0.0754 - val_loss: 0.0750\n",
            "Epoch 11/50\n",
            "600/600 [==============================] - 1s 2ms/step - loss: 0.0753 - val_loss: 0.0750\n",
            "Epoch 12/50\n",
            "600/600 [==============================] - 1s 2ms/step - loss: 0.0753 - val_loss: 0.0750\n",
            "Epoch 13/50\n",
            "600/600 [==============================] - 1s 2ms/step - loss: 0.0752 - val_loss: 0.0750\n",
            "Epoch 14/50\n",
            "600/600 [==============================] - 1s 2ms/step - loss: 0.0751 - val_loss: 0.0749\n",
            "Epoch 15/50\n",
            "600/600 [==============================] - 1s 2ms/step - loss: 0.0753 - val_loss: 0.0749\n",
            "Epoch 16/50\n",
            "600/600 [==============================] - 1s 2ms/step - loss: 0.0752 - val_loss: 0.0749\n",
            "Epoch 17/50\n",
            "600/600 [==============================] - 1s 2ms/step - loss: 0.0752 - val_loss: 0.0749\n",
            "Epoch 18/50\n",
            "600/600 [==============================] - 1s 2ms/step - loss: 0.0752 - val_loss: 0.0749\n",
            "Epoch 19/50\n",
            "600/600 [==============================] - 1s 2ms/step - loss: 0.0752 - val_loss: 0.0749\n",
            "Epoch 20/50\n",
            "600/600 [==============================] - 1s 2ms/step - loss: 0.0751 - val_loss: 0.0748\n",
            "Epoch 21/50\n",
            "600/600 [==============================] - 1s 2ms/step - loss: 0.0751 - val_loss: 0.0748\n",
            "Epoch 22/50\n",
            "600/600 [==============================] - 1s 2ms/step - loss: 0.0750 - val_loss: 0.0748\n",
            "Epoch 23/50\n",
            "600/600 [==============================] - 1s 2ms/step - loss: 0.0750 - val_loss: 0.0748\n",
            "Epoch 24/50\n",
            "600/600 [==============================] - 1s 2ms/step - loss: 0.0750 - val_loss: 0.0748\n",
            "Epoch 25/50\n",
            "600/600 [==============================] - 1s 2ms/step - loss: 0.0751 - val_loss: 0.0748\n",
            "Epoch 26/50\n",
            "600/600 [==============================] - 1s 2ms/step - loss: 0.0751 - val_loss: 0.0748\n",
            "Epoch 27/50\n",
            "600/600 [==============================] - 1s 2ms/step - loss: 0.0751 - val_loss: 0.0748\n",
            "Epoch 28/50\n",
            "600/600 [==============================] - 1s 2ms/step - loss: 0.0750 - val_loss: 0.0747\n",
            "Epoch 29/50\n",
            "600/600 [==============================] - 1s 2ms/step - loss: 0.0750 - val_loss: 0.0747\n",
            "Epoch 30/50\n",
            "600/600 [==============================] - 1s 2ms/step - loss: 0.0749 - val_loss: 0.0747\n",
            "Epoch 31/50\n",
            "600/600 [==============================] - 1s 2ms/step - loss: 0.0750 - val_loss: 0.0747\n",
            "Epoch 32/50\n",
            "600/600 [==============================] - 1s 2ms/step - loss: 0.0750 - val_loss: 0.0747\n",
            "Epoch 33/50\n",
            "600/600 [==============================] - 1s 2ms/step - loss: 0.0750 - val_loss: 0.0747\n",
            "Epoch 34/50\n",
            "600/600 [==============================] - 1s 2ms/step - loss: 0.0751 - val_loss: 0.0747\n",
            "Epoch 35/50\n",
            "600/600 [==============================] - 1s 2ms/step - loss: 0.0750 - val_loss: 0.0747\n",
            "Epoch 36/50\n",
            "600/600 [==============================] - 1s 2ms/step - loss: 0.0749 - val_loss: 0.0747\n",
            "Epoch 37/50\n",
            "600/600 [==============================] - 1s 2ms/step - loss: 0.0750 - val_loss: 0.0747\n",
            "Epoch 38/50\n",
            "600/600 [==============================] - 1s 2ms/step - loss: 0.0748 - val_loss: 0.0747\n",
            "Epoch 39/50\n",
            "600/600 [==============================] - 1s 2ms/step - loss: 0.0748 - val_loss: 0.0747\n",
            "Epoch 40/50\n",
            "600/600 [==============================] - 1s 2ms/step - loss: 0.0751 - val_loss: 0.0746\n",
            "Epoch 41/50\n",
            "600/600 [==============================] - 1s 2ms/step - loss: 0.0750 - val_loss: 0.0746\n",
            "Epoch 42/50\n",
            "600/600 [==============================] - 1s 2ms/step - loss: 0.0749 - val_loss: 0.0746\n",
            "Epoch 43/50\n",
            "600/600 [==============================] - 1s 2ms/step - loss: 0.0750 - val_loss: 0.0746\n",
            "Epoch 44/50\n",
            "600/600 [==============================] - 1s 2ms/step - loss: 0.0751 - val_loss: 0.0746\n",
            "Epoch 45/50\n",
            "600/600 [==============================] - 1s 2ms/step - loss: 0.0750 - val_loss: 0.0746\n",
            "Epoch 46/50\n",
            "600/600 [==============================] - 1s 2ms/step - loss: 0.0748 - val_loss: 0.0746\n",
            "Epoch 47/50\n",
            "600/600 [==============================] - 1s 2ms/step - loss: 0.0748 - val_loss: 0.0746\n",
            "Epoch 48/50\n",
            "600/600 [==============================] - 1s 2ms/step - loss: 0.0749 - val_loss: 0.0746\n",
            "Epoch 49/50\n",
            "600/600 [==============================] - 1s 2ms/step - loss: 0.0750 - val_loss: 0.0746\n",
            "Epoch 50/50\n",
            "600/600 [==============================] - 1s 2ms/step - loss: 0.0749 - val_loss: 0.0746\n"
          ],
          "name": "stdout"
        }
      ]
    },
    {
      "cell_type": "code",
      "metadata": {
        "colab": {
          "base_uri": "https://localhost:8080/",
          "height": 351
        },
        "id": "3iEVYJlSChsm",
        "outputId": "6f1bbd70-b4d0-484a-a001-3ec25a18ccd7"
      },
      "source": [
        "pl.plot(np.array(history64_bce.history['loss']))\n",
        "pl.ylabel('loss')\n",
        "pl.xlabel('iteration')\n",
        "#pl.yscale('log')\n",
        "#pl.xscale('log')"
      ],
      "execution_count": 23,
      "outputs": [
        {
          "output_type": "execute_result",
          "data": {
            "text/plain": [
              "Text(0.5, 0, 'iteration')"
            ]
          },
          "metadata": {
            "tags": []
          },
          "execution_count": 23
        },
        {
          "output_type": "display_data",
          "data": {
            "image/png": "[encoded data removed]",
            "text/plain": [
              "<Figure size 720x360 with 1 Axes>"
            ]
          },
          "metadata": {
            "tags": [],
            "needs_background": "light"
          }
        }
      ]
    },
    {
      "cell_type": "code",
      "metadata": {
        "colab": {
          "base_uri": "https://localhost:8080/",
          "height": 1000
        },
        "id": "KuPvHfAFGgqm",
        "outputId": "319890fc-1457-41af-b743-20b9df1a615b"
      },
      "source": [
        "output_image64_bce = model_digits64_bce.predict(x_test)\n",
        "for i in range(10):\n",
        "  compareinout(i, output_image64_bce, x_test)"
      ],
      "execution_count": 24,
      "outputs": [
        {
          "output_type": "display_data",
          "data": {
            "image/png": "[encoded data removed]",
            "text/plain": [
              "<Figure size 720x360 with 2 Axes>"
            ]
          },
          "metadata": {
            "tags": [],
            "needs_background": "light"
          }
        },
        {
          "output_type": "display_data",
          "data": {
            "image/png": "[encoded data removed]",
            "text/plain": [
              "<Figure size 720x360 with 2 Axes>"
            ]
          },
          "metadata": {
            "tags": [],
            "needs_background": "light"
          }
        },
        {
          "output_type": "display_data",
          "data": {
            "image/png": "[encoded data removed]",
            "text/plain": [
              "<Figure size 720x360 with 2 Axes>"
            ]
          },
          "metadata": {
            "tags": [],
            "needs_background": "light"
          }
        },
        {
          "output_type": "display_data",
          "data": {
            "image/png": "[encoded data removed]",
            "text/plain": [
              "<Figure size 720x360 with 2 Axes>"
            ]
          },
          "metadata": {
            "tags": [],
            "needs_background": "light"
          }
        },
        {
          "output_type": "display_data",
          "data": {
            "image/png": "[encoded data removed]",
            "text/plain": [
              "<Figure size 720x360 with 2 Axes>"
            ]
          },
          "metadata": {
            "tags": [],
            "needs_background": "light"
          }
        },
        {
          "output_type": "display_data",
          "data": {
            "image/png": "[encoded data removed]",
            "text/plain": [
              "<Figure size 720x360 with 2 Axes>"
            ]
          },
          "metadata": {
            "tags": [],
            "needs_background": "light"
          }
        },
        {
          "output_type": "display_data",
          "data": {
            "image/png": "[encoded data removed]",
            "text/plain": [
              "<Figure size 720x360 with 2 Axes>"
            ]
          },
          "metadata": {
            "tags": [],
            "needs_background": "light"
          }
        },
        {
          "output_type": "display_data",
          "data": {
            "image/png": "[encoded data removed]",
            "text/plain": [
              "<Figure size 720x360 with 2 Axes>"
            ]
          },
          "metadata": {
            "tags": [],
            "needs_background": "light"
          }
        },
        {
          "output_type": "display_data",
          "data": {
            "image/png": "[encoded data removed]",
            "text/plain": [
              "<Figure size 720x360 with 2 Axes>"
            ]
          },
          "metadata": {
            "tags": [],
            "needs_background": "light"
          }
        },
        {
          "output_type": "display_data",
          "data": {
            "image/png": "[encoded data removed]",
            "text/plain": [
              "<Figure size 720x360 with 2 Axes>"
            ]
          },
          "metadata": {
            "tags": [],
            "needs_background": "light"
          }
        }
      ]
    },
    {
      "cell_type": "markdown",
      "metadata": {
        "id": "nTeTmfkSG2xN"
      },
      "source": [
        "risultato abbastanza soddisfacente!!!"
      ]
    },
    {
      "cell_type": "code",
      "metadata": {
        "colab": {
          "base_uri": "https://localhost:8080/",
          "height": 703
        },
        "id": "Iq2YTrF2Gx4U",
        "outputId": "868b9b4e-3537-458b-a106-0241d5b66497"
      },
      "source": [
        "pl.plot(np.array(history64.history['loss']), label=\"linear\")\n",
        "pl.plot(np.array(history64_sig.history['loss']), label=\"sigmoid\")\n",
        "pl.plot(np.array(history64_bce.history['loss']), label=\"bce\")\n",
        "pl.ylabel('loss')\n",
        "pl.xlabel('iteration')\n",
        "pl.legend()\n",
        "pl.title(\"the 3 loss functions\")\n",
        "pl.figure()\n",
        "pl.plot(np.array(history64.history['loss']), label=\"linear\")\n",
        "pl.plot(np.array(history64_sig.history['loss']), label=\"sigmoid\")\n",
        "pl.plot(np.array(history64_bce.history['loss']), label=\"bce\")\n",
        "pl.ylabel('loss')\n",
        "pl.xlabel('iteration')\n",
        "pl.xscale('log')\n",
        "pl.yscale('log')\n",
        "pl.legend()\n",
        "pl.title(\"the 3 loss functions, log scale\")"
      ],
      "execution_count": 25,
      "outputs": [
        {
          "output_type": "execute_result",
          "data": {
            "text/plain": [
              "Text(0.5, 1.0, 'the 3 loss functions, log scale')"
            ]
          },
          "metadata": {
            "tags": []
          },
          "execution_count": 25
        },
        {
          "output_type": "display_data",
          "data": {
            "image/png": "[encoded data removed]",
            "text/plain": [
              "<Figure size 720x360 with 1 Axes>"
            ]
          },
          "metadata": {
            "tags": [],
            "needs_background": "light"
          }
        },
        {
          "output_type": "display_data",
          "data": {
            "image/png": "[encoded data removed]",
            "text/plain": [
              "<Figure size 720x360 with 1 Axes>"
            ]
          },
          "metadata": {
            "tags": [],
            "needs_background": "light"
          }
        }
      ]
    }
  ]
}